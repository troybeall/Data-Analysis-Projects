{
 "cells": [
  {
   "cell_type": "code",
   "execution_count": 2070,
   "metadata": {},
   "outputs": [],
   "source": [
    "import pandas as pd\n",
    "from nltk.tokenize import sent_tokenize\n",
    "from nltk.tokenize import word_tokenize\n",
    "from collections import Counter\n",
    "from sklearn.model_selection import train_test_split\n",
    "import numpy as np\n",
    "import tensorflow as tf\n",
    "import nltk\n",
    "from nltk.corpus import stopwords\n",
    "from tensorflow.keras.preprocessing.text import Tokenizer\n",
    "from tensorflow.keras.preprocessing.sequence import pad_sequences\n",
    "import re\n",
    "import emoji\n",
    "import unidecode\n",
    "import string\n",
    "from nltk.stem import PorterStemmer\n",
    "%matplotlib inline\n",
    "import matplotlib.pyplot as plt\n",
    "import matplotlib.image as mpimg\n",
    "from tensorflow.keras.callbacks import EarlyStopping\n",
    "pd.set_option(\"display.max_colwidth\", 10000)"
   ]
  },
  {
   "cell_type": "code",
   "execution_count": 2071,
   "metadata": {},
   "outputs": [],
   "source": [
    "imdb_df = pd.read_csv('imdb_labelled.txt', sep ='\\t' , names=['review', 'sentiment'])\n",
    "yelp_df = pd.read_csv('yelp_labelled.txt', sep ='\\t', names=['review', 'sentiment'])\n",
    "amazon_df = pd.read_csv('amazon_cells_labelled.txt', sep ='\\t', names=['review', 'sentiment'])"
   ]
  },
  {
   "cell_type": "markdown",
   "metadata": {},
   "source": [
    "# Exploration"
   ]
  },
  {
   "cell_type": "code",
   "execution_count": 2072,
   "metadata": {},
   "outputs": [
    {
     "data": {
      "text/html": [
       "<div>\n",
       "<style scoped>\n",
       "    .dataframe tbody tr th:only-of-type {\n",
       "        vertical-align: middle;\n",
       "    }\n",
       "\n",
       "    .dataframe tbody tr th {\n",
       "        vertical-align: top;\n",
       "    }\n",
       "\n",
       "    .dataframe thead th {\n",
       "        text-align: right;\n",
       "    }\n",
       "</style>\n",
       "<table border=\"1\" class=\"dataframe\">\n",
       "  <thead>\n",
       "    <tr style=\"text-align: right;\">\n",
       "      <th></th>\n",
       "      <th>review</th>\n",
       "      <th>sentiment</th>\n",
       "    </tr>\n",
       "  </thead>\n",
       "  <tbody>\n",
       "    <tr>\n",
       "      <th>0</th>\n",
       "      <td>A very, very, very slow-moving, aimless movie about a distressed, drifting young man.</td>\n",
       "      <td>0</td>\n",
       "    </tr>\n",
       "    <tr>\n",
       "      <th>1</th>\n",
       "      <td>Not sure who was more lost - the flat characters or the audience, nearly half of whom walked out.</td>\n",
       "      <td>0</td>\n",
       "    </tr>\n",
       "    <tr>\n",
       "      <th>2</th>\n",
       "      <td>Attempting artiness with black &amp; white and clever camera angles, the movie disappointed - became even more ridiculous - as the acting was poor and the plot and lines almost non-existent.</td>\n",
       "      <td>0</td>\n",
       "    </tr>\n",
       "    <tr>\n",
       "      <th>3</th>\n",
       "      <td>Very little music or anything to speak of.</td>\n",
       "      <td>0</td>\n",
       "    </tr>\n",
       "    <tr>\n",
       "      <th>4</th>\n",
       "      <td>The best scene in the movie was when Gerardo is trying to find a song that keeps running through his head.</td>\n",
       "      <td>1</td>\n",
       "    </tr>\n",
       "  </tbody>\n",
       "</table>\n",
       "</div>"
      ],
      "text/plain": [
       "                                                                                                                                                                                         review  \\\n",
       "0                                                                                                       A very, very, very slow-moving, aimless movie about a distressed, drifting young man.     \n",
       "1                                                                                           Not sure who was more lost - the flat characters or the audience, nearly half of whom walked out.     \n",
       "2  Attempting artiness with black & white and clever camera angles, the movie disappointed - became even more ridiculous - as the acting was poor and the plot and lines almost non-existent.     \n",
       "3                                                                                                                                                  Very little music or anything to speak of.     \n",
       "4                                                                                  The best scene in the movie was when Gerardo is trying to find a song that keeps running through his head.     \n",
       "\n",
       "   sentiment  \n",
       "0          0  \n",
       "1          0  \n",
       "2          0  \n",
       "3          0  \n",
       "4          1  "
      ]
     },
     "execution_count": 2072,
     "metadata": {},
     "output_type": "execute_result"
    }
   ],
   "source": [
    "frames = [imdb_df, yelp_df, amazon_df]\n",
    "df = pd.concat(frames)\n",
    "reviews = df['review'].to_string(index=False)\n",
    "df.head()"
   ]
  },
  {
   "cell_type": "code",
   "execution_count": 2073,
   "metadata": {},
   "outputs": [
    {
     "name": "stdout",
     "output_type": "stream",
     "text": [
      "Longest review:  479 characters\n",
      "Average review:  65.26466666666667 characters\n",
      "Number of positive and negative reviews:\n",
      " 1    1500\n",
      "0    1500\n",
      "Name: sentiment, dtype: int64\n"
     ]
    }
   ],
   "source": [
    "# Find review lengths\n",
    "review_lengths = df.review.str.len()\n",
    "print('Longest review: ', str(max(review_lengths)) + ' characters')\n",
    "print('Average review: ', str(sum(review_lengths) / df.review.count()) + ' characters')\n",
    "# Find the number of positive and negative reviews\n",
    "print('Number of positive and negative reviews:\\n', df.sentiment.value_counts())\n"
   ]
  },
  {
   "cell_type": "code",
   "execution_count": 2074,
   "metadata": {},
   "outputs": [
    {
     "name": "stdout",
     "output_type": "stream",
     "text": [
      "The longest review is  73 words.\n",
      "The average review is  11.891 words.\n",
      "The vocabulary size is  5270 words.\n"
     ]
    }
   ],
   "source": [
    "# Tokenize reviews\n",
    "tokenizer = Tokenizer(lower=True)\n",
    "tokenizer.fit_on_texts(df.review)\n",
    "# put tokens into index-based sequences\n",
    "sequences = tokenizer.texts_to_sequences(df.review)\n",
    "\n",
    "# Longest reviews\n",
    "max_len = max(len(x) for x in sequences)\n",
    "sum_len = sum(len(x) for x in sequences)\n",
    "print('The longest review is ', str(max_len) + ' words.')\n",
    "\n",
    "# Average review\n",
    "print('The average review is ', str((sum_len) / 3000) + ' words.')\n",
    "# Vocabulary size\n",
    "word_token_count = tokenizer.word_counts\n",
    "vocab_size = (len(word_token_count))\n",
    "print('The vocabulary size is ', str(vocab_size) + ' words.')"
   ]
  },
  {
   "cell_type": "code",
   "execution_count": 2075,
   "metadata": {},
   "outputs": [
    {
     "data": {
      "text/plain": [
       "array([[0., 0., 0., ..., 0., 0., 0.],\n",
       "       [0., 2., 0., ..., 0., 0., 0.],\n",
       "       [0., 3., 3., ..., 0., 0., 0.],\n",
       "       ...,\n",
       "       [0., 0., 0., ..., 0., 0., 0.],\n",
       "       [0., 2., 0., ..., 1., 1., 1.],\n",
       "       [0., 1., 0., ..., 0., 0., 0.]])"
      ]
     },
     "execution_count": 2075,
     "metadata": {},
     "output_type": "execute_result"
    }
   ],
   "source": [
    "# convert sequences to numpy array\n",
    "word_matrix = tokenizer.sequences_to_matrix(sequences, mode='count')\n",
    "word_matrix"
   ]
  },
  {
   "cell_type": "code",
   "execution_count": 2076,
   "metadata": {},
   "outputs": [
    {
     "name": "stdout",
     "output_type": "stream",
     "text": [
      "There are  62 different characters in the reviews.\n"
     ]
    },
    {
     "data": {
      "text/plain": [
       "{1: ' ',\n",
       " 2: 'e',\n",
       " 3: 't',\n",
       " 4: 'a',\n",
       " 5: 'i',\n",
       " 6: 'o',\n",
       " 7: 's',\n",
       " 8: 'n',\n",
       " 9: 'r',\n",
       " 10: 'h',\n",
       " 11: 'l',\n",
       " 12: 'd',\n",
       " 13: 'c',\n",
       " 14: 'u',\n",
       " 15: 'm',\n",
       " 16: 'y',\n",
       " 17: 'w',\n",
       " 18: 'g',\n",
       " 19: 'f',\n",
       " 20: '.',\n",
       " 21: 'p',\n",
       " 22: 'b',\n",
       " 23: 'v',\n",
       " 24: 'k',\n",
       " 25: ',',\n",
       " 26: \"'\",\n",
       " 27: '!',\n",
       " 28: '-',\n",
       " 29: 'x',\n",
       " 30: 'j',\n",
       " 31: 'z',\n",
       " 32: 'q',\n",
       " 33: '0',\n",
       " 34: '\"',\n",
       " 35: '1',\n",
       " 36: ')',\n",
       " 37: '(',\n",
       " 38: '2',\n",
       " 39: '5',\n",
       " 40: '3',\n",
       " 41: '/',\n",
       " 42: ':',\n",
       " 43: '9',\n",
       " 44: '&',\n",
       " 45: '?',\n",
       " 46: '8',\n",
       " 47: '4',\n",
       " 48: ';',\n",
       " 49: '7',\n",
       " 50: '*',\n",
       " 51: '$',\n",
       " 52: '6',\n",
       " 53: 'é',\n",
       " 54: '+',\n",
       " 55: '%',\n",
       " 56: '\\x85',\n",
       " 57: '#',\n",
       " 58: 'å',\n",
       " 59: '\\x97',\n",
       " 60: 'ê',\n",
       " 61: '[',\n",
       " 62: ']'}"
      ]
     },
     "execution_count": 2076,
     "metadata": {},
     "output_type": "execute_result"
    }
   ],
   "source": [
    "# Tokenize reviews - characters\n",
    "punc_tokenizer = Tokenizer(char_level=True)\n",
    "punc_tokenizer.fit_on_texts(df.review)\n",
    "# put tokens into index-based sequences\n",
    "sequences = punc_tokenizer.texts_to_sequences(df.review)\n",
    "# Vocabulary size\n",
    "print('There are ', str(len(punc_tokenizer.index_word)) + ' different characters in the reviews.')\n",
    "punc_tokenizer.index_word\n"
   ]
  },
  {
   "cell_type": "code",
   "execution_count": 2077,
   "metadata": {},
   "outputs": [
    {
     "data": {
      "text/plain": [
       "'!\"#$%&\\'()*+,-./:;<=>?@[\\\\]^_`{|}~'"
      ]
     },
     "execution_count": 2077,
     "metadata": {},
     "output_type": "execute_result"
    }
   ],
   "source": [
    "# Extract all punctuation characters\n",
    "string.punctuation"
   ]
  },
  {
   "cell_type": "code",
   "execution_count": 2078,
   "metadata": {},
   "outputs": [
    {
     "name": "stdout",
     "output_type": "stream",
     "text": [
      "Counter({'.': 3093, ',': 1306, \"'\": 723, '!': 503, '-': 294, '\"': 124, ')': 103, '(': 94, '/': 42, ':': 39, '&': 28, '?': 28, ';': 25, '*': 18, '$': 18, '+': 6, '%': 5, '#': 2, '[': 1, ']': 1})\n",
      "20\n"
     ]
    }
   ],
   "source": [
    "# Find all punctuation characters in reviews except periods\n",
    "punc_tokens = re.findall('[!\"#$%&\\'()*+,-./:;<=>?@[\\\\]^_`{|}~]', reviews)\n",
    "print(Counter(punc_tokens))\n",
    "\n",
    "print(len(Counter(punc_tokens)))"
   ]
  },
  {
   "cell_type": "code",
   "execution_count": 2079,
   "metadata": {},
   "outputs": [
    {
     "data": {
      "text/plain": [
       "''"
      ]
     },
     "execution_count": 2079,
     "metadata": {},
     "output_type": "execute_result"
    }
   ],
   "source": [
    "# Find emojis\n",
    "\n",
    "def emojis(text):\n",
    "  return ''.join(emoj for emoj in text if emoj in emoji.UNICODE_EMOJI['en'])\n",
    "\n",
    "emojis(reviews)"
   ]
  },
  {
   "cell_type": "code",
   "execution_count": 2080,
   "metadata": {},
   "outputs": [
    {
     "name": "stdout",
     "output_type": "stream",
     "text": [
      "False\n"
     ]
    }
   ],
   "source": [
    "# are all characters ascii characters?\n",
    "def isEnglish(s):\n",
    "  return s.isascii()\n",
    "\n",
    "print(isEnglish(reviews))"
   ]
  },
  {
   "cell_type": "code",
   "execution_count": 2081,
   "metadata": {},
   "outputs": [
    {
     "data": {
      "text/plain": [
       "[':)', ';)', ':)', ':(', ':)', ':)', ':-)']"
      ]
     },
     "execution_count": 2081,
     "metadata": {},
     "output_type": "execute_result"
    }
   ],
   "source": [
    "# Find common smiley faces\n",
    "re.findall(r'(?::|;|=)(?:-)?(?:\\)|\\(|D|P)', reviews)"
   ]
  },
  {
   "cell_type": "code",
   "execution_count": 2082,
   "metadata": {},
   "outputs": [
    {
     "data": {
      "text/plain": [
       "['é', '\\x85', 'é', 'é', 'å', '\\x97', 'é', '\\x85', 'é', 'é', 'ê', 'é']"
      ]
     },
     "execution_count": 2082,
     "metadata": {},
     "output_type": "execute_result"
    }
   ],
   "source": [
    "# Find other non-english characters\n",
    "re.findall(r'[^\\x00-\\x7F]', reviews)"
   ]
  },
  {
   "cell_type": "code",
   "execution_count": 2083,
   "metadata": {},
   "outputs": [],
   "source": [
    "# Decode reviews\n",
    "encoded_reviews = reviews.encode(\"ascii\", \"ignore\")\n",
    "decoded_reviews = encoded_reviews.decode()\n"
   ]
  },
  {
   "cell_type": "code",
   "execution_count": 2084,
   "metadata": {},
   "outputs": [
    {
     "data": {
      "text/plain": [
       "[]"
      ]
     },
     "execution_count": 2084,
     "metadata": {},
     "output_type": "execute_result"
    }
   ],
   "source": [
    "# after decoding, find non-english characters\n",
    "re.findall(r'[^\\x00-\\x7F]', decoded_reviews)"
   ]
  },
  {
   "cell_type": "code",
   "execution_count": 2085,
   "metadata": {},
   "outputs": [
    {
     "name": "stdout",
     "output_type": "stream",
     "text": [
      "True\n"
     ]
    }
   ],
   "source": [
    "# after decoding, are all characters ascii characters?\n",
    "def isEnglish(s):\n",
    "  return s.isascii()\n",
    "\n",
    "print(isEnglish(decoded_reviews))"
   ]
  },
  {
   "cell_type": "markdown",
   "metadata": {},
   "source": [
    "# Data Preparation"
   ]
  },
  {
   "cell_type": "code",
   "execution_count": 2086,
   "metadata": {},
   "outputs": [],
   "source": [
    "# remove punctuation\n",
    "def remove_punctuation(text):\n",
    "    final = \"\".join(u for u in text if u not in (\"?\", \".\", \";\", \":\",  \"!\",'\"', \",\", \"'\",\n",
    "                                                '-', ')', '(', '/', '&', '*', '+', '#', '[', ']'))\n",
    "    return final\n",
    "df['review'] = df['review'].apply(remove_punctuation)"
   ]
  },
  {
   "cell_type": "code",
   "execution_count": 2087,
   "metadata": {},
   "outputs": [
    {
     "data": {
      "text/html": [
       "<div>\n",
       "<style scoped>\n",
       "    .dataframe tbody tr th:only-of-type {\n",
       "        vertical-align: middle;\n",
       "    }\n",
       "\n",
       "    .dataframe tbody tr th {\n",
       "        vertical-align: top;\n",
       "    }\n",
       "\n",
       "    .dataframe thead th {\n",
       "        text-align: right;\n",
       "    }\n",
       "</style>\n",
       "<table border=\"1\" class=\"dataframe\">\n",
       "  <thead>\n",
       "    <tr style=\"text-align: right;\">\n",
       "      <th></th>\n",
       "      <th>review</th>\n",
       "      <th>sentiment</th>\n",
       "      <th>review_without_stopwords</th>\n",
       "    </tr>\n",
       "  </thead>\n",
       "  <tbody>\n",
       "    <tr>\n",
       "      <th>0</th>\n",
       "      <td>A very very very slowmoving aimless movie about a distressed drifting young man</td>\n",
       "      <td>0</td>\n",
       "      <td>A slowmoving aimless movie distressed drifting young man</td>\n",
       "    </tr>\n",
       "    <tr>\n",
       "      <th>1</th>\n",
       "      <td>Not sure who was more lost  the flat characters or the audience nearly half of whom walked out</td>\n",
       "      <td>0</td>\n",
       "      <td>Not sure lost flat characters audience nearly half walked</td>\n",
       "    </tr>\n",
       "    <tr>\n",
       "      <th>2</th>\n",
       "      <td>Attempting artiness with black  white and clever camera angles the movie disappointed  became even more ridiculous  as the acting was poor and the plot and lines almost nonexistent</td>\n",
       "      <td>0</td>\n",
       "      <td>Attempting artiness black white clever camera angles movie disappointed became even ridiculous acting poor plot lines almost nonexistent</td>\n",
       "    </tr>\n",
       "    <tr>\n",
       "      <th>3</th>\n",
       "      <td>Very little music or anything to speak of</td>\n",
       "      <td>0</td>\n",
       "      <td>Very little music anything speak</td>\n",
       "    </tr>\n",
       "    <tr>\n",
       "      <th>4</th>\n",
       "      <td>The best scene in the movie was when Gerardo is trying to find a song that keeps running through his head</td>\n",
       "      <td>1</td>\n",
       "      <td>The best scene movie Gerardo trying find song keeps running head</td>\n",
       "    </tr>\n",
       "  </tbody>\n",
       "</table>\n",
       "</div>"
      ],
      "text/plain": [
       "                                                                                                                                                                                   review  \\\n",
       "0                                                                                                       A very very very slowmoving aimless movie about a distressed drifting young man     \n",
       "1                                                                                        Not sure who was more lost  the flat characters or the audience nearly half of whom walked out     \n",
       "2  Attempting artiness with black  white and clever camera angles the movie disappointed  became even more ridiculous  as the acting was poor and the plot and lines almost nonexistent     \n",
       "3                                                                                                                                             Very little music or anything to speak of     \n",
       "4                                                                             The best scene in the movie was when Gerardo is trying to find a song that keeps running through his head     \n",
       "\n",
       "   sentiment  \\\n",
       "0          0   \n",
       "1          0   \n",
       "2          0   \n",
       "3          0   \n",
       "4          1   \n",
       "\n",
       "                                                                                                                   review_without_stopwords  \n",
       "0                                                                                  A slowmoving aimless movie distressed drifting young man  \n",
       "1                                                                                 Not sure lost flat characters audience nearly half walked  \n",
       "2  Attempting artiness black white clever camera angles movie disappointed became even ridiculous acting poor plot lines almost nonexistent  \n",
       "3                                                                                                          Very little music anything speak  \n",
       "4                                                                          The best scene movie Gerardo trying find song keeps running head  "
      ]
     },
     "execution_count": 2087,
     "metadata": {},
     "output_type": "execute_result"
    }
   ],
   "source": [
    "# remove stopwords\n",
    "stop = stopwords.words('english')\n",
    "\n",
    "df_clean = pd.DataFrame(df)\n",
    "df_clean.columns = [\"review\",\"sentiment\"]\n",
    "\n",
    "# Exclude stopwords with Python's list comprehension and pandas.DataFrame.apply.\n",
    "df_clean['review_without_stopwords'] = df_clean['review'].apply(lambda x: ' '.join([word for word in x.split() if word not in (stop)]))\n",
    "df_clean.head()"
   ]
  },
  {
   "cell_type": "code",
   "execution_count": 2088,
   "metadata": {},
   "outputs": [],
   "source": [
    "# split x and y\n",
    "sentences = df_clean['review_without_stopwords'].values\n",
    "y = df_clean['sentiment'].values"
   ]
  },
  {
   "cell_type": "code",
   "execution_count": 2089,
   "metadata": {},
   "outputs": [],
   "source": [
    "# stem words\n",
    "porter = PorterStemmer()\n",
    "tokens = [word_tokenize(sentence) for sentence in sentences]\n",
    "# Stem the list of tokens\n",
    "stemmed_tokens = [[porter.stem(word) for word in sentence] for sentence in tokens] \n",
    "sentences = np.asarray(stemmed_tokens, dtype=object)"
   ]
  },
  {
   "cell_type": "code",
   "execution_count": 2090,
   "metadata": {},
   "outputs": [
    {
     "name": "stdout",
     "output_type": "stream",
     "text": [
      "The longest review is  42 words.\n",
      "The average review is  7.060333333333333 words.\n",
      "The vocabulary size is  4251 words.\n"
     ]
    }
   ],
   "source": [
    "# Get new vocab_size\n",
    "tokenizer = Tokenizer(lower=True)\n",
    "tokenizer.fit_on_texts(sentences)\n",
    "word_token_count = tokenizer.word_counts\n",
    "vocab_size = (len(word_token_count))\n",
    "\n",
    "max_len = max(len(x) for x in sentences)\n",
    "\n",
    "sum_len = sum(len(x) for x in sentences)\n",
    "\n",
    "# Longest review\n",
    "print('The longest review is ', str(max_len) + ' words.')\n",
    "\n",
    "# Average review\n",
    "print('The average review is ', str((sum_len) / 3000) + ' words.')\n",
    "# Vocabulary size\n",
    "print('The vocabulary size is ', str(vocab_size) + ' words.')"
   ]
  },
  {
   "cell_type": "code",
   "execution_count": 2091,
   "metadata": {},
   "outputs": [],
   "source": [
    "X_train, X_test, y_train, y_test = train_test_split(sentences, y, test_size=0.2, random_state=420)"
   ]
  },
  {
   "cell_type": "code",
   "execution_count": 2092,
   "metadata": {},
   "outputs": [],
   "source": [
    "# Tokenize reviews\n",
    "tokenizer = Tokenizer(lower=True, num_words=vocab_size, oov_token='<OOV>')\n",
    "tokenizer.fit_on_texts(X_train)\n",
    "\n",
    "# put tokens into index-based sequences\n",
    "unpadded_training_setences = tokenizer.texts_to_sequences(X_train)\n",
    "\n",
    "# pad reviews\n",
    "training_sentences = pad_sequences(unpadded_training_setences, maxlen=max_len, padding='post')\n",
    "\n",
    "# And for testing\n",
    "testing_unpadded = tokenizer.texts_to_sequences(X_test)\n",
    "testing_sentences = pad_sequences(testing_unpadded, maxlen=max_len, padding='post')\n",
    "\n",
    "# put sentinment into array\n",
    "training_labels_final = np.array(y_train)\n",
    "testing_labels_final = np.array(y_test)\n"
   ]
  },
  {
   "cell_type": "code",
   "execution_count": 2041,
   "metadata": {},
   "outputs": [],
   "source": [
    "embed_len = vocab_size**0.25\n",
    "embedding_dim = round(embed_len)\n",
    "\n",
    "vocab_size_1 = vocab_size + 1 # for the oov_token\n",
    "\n",
    "max_length = max_len"
   ]
  },
  {
   "cell_type": "markdown",
   "metadata": {},
   "source": [
    "# Model"
   ]
  },
  {
   "cell_type": "code",
   "execution_count": 2049,
   "metadata": {},
   "outputs": [
    {
     "name": "stdout",
     "output_type": "stream",
     "text": [
      "Model: \"sequential_200\"\n",
      "_________________________________________________________________\n",
      " Layer (type)                Output Shape              Param #   \n",
      "=================================================================\n",
      " embedding_169 (Embedding)   (None, 42, 8)             34016     \n",
      "                                                                 \n",
      " flatten_142 (Flatten)       (None, 336)               0         \n",
      "                                                                 \n",
      " dense_393 (Dense)           (None, 8)                 2696      \n",
      "                                                                 \n",
      " dense_394 (Dense)           (None, 1)                 9         \n",
      "                                                                 \n",
      "=================================================================\n",
      "Total params: 36,721\n",
      "Trainable params: 36,721\n",
      "Non-trainable params: 0\n",
      "_________________________________________________________________\n"
     ]
    }
   ],
   "source": [
    "\n",
    "model = Sequential()\n",
    "model.add(layers.Embedding(input_dim=vocab_size_1, \n",
    "                           output_dim = embedding_dim,\n",
    "                           input_length=max_len))\n",
    "\n",
    "model.add(layers.Flatten())\n",
    "model.add(layers.Dense(8, activation='relu'))\n",
    "model.add(layers.Dense(1, activation='sigmoid'))\n",
    "\n",
    "\n",
    "model.compile(optimizer='adam', \n",
    "              loss='binary_crossentropy',\n",
    "              metrics=['accuracy'])\n",
    "model.summary()"
   ]
  },
  {
   "cell_type": "code",
   "execution_count": 2050,
   "metadata": {},
   "outputs": [
    {
     "name": "stdout",
     "output_type": "stream",
     "text": [
      "Epoch 1/20\n",
      "75/75 [==============================] - 1s 3ms/step - loss: 0.6922 - accuracy: 0.5233 - val_loss: 0.6889 - val_accuracy: 0.5933\n",
      "Epoch 2/20\n",
      "75/75 [==============================] - 0s 2ms/step - loss: 0.6707 - accuracy: 0.7404 - val_loss: 0.6624 - val_accuracy: 0.6933\n",
      "Epoch 3/20\n",
      "75/75 [==============================] - 0s 2ms/step - loss: 0.5591 - accuracy: 0.8583 - val_loss: 0.5650 - val_accuracy: 0.7367\n",
      "Epoch 4/20\n",
      "75/75 [==============================] - 0s 2ms/step - loss: 0.3603 - accuracy: 0.9054 - val_loss: 0.4951 - val_accuracy: 0.7683\n",
      "Epoch 5/20\n",
      "75/75 [==============================] - 0s 2ms/step - loss: 0.2265 - accuracy: 0.9479 - val_loss: 0.4691 - val_accuracy: 0.7917\n",
      "Epoch 6/20\n",
      "75/75 [==============================] - 0s 2ms/step - loss: 0.1530 - accuracy: 0.9646 - val_loss: 0.4662 - val_accuracy: 0.7917\n",
      "Epoch 7/20\n",
      "75/75 [==============================] - 0s 2ms/step - loss: 0.1120 - accuracy: 0.9717 - val_loss: 0.4883 - val_accuracy: 0.7750\n",
      "Epoch 8/20\n",
      "75/75 [==============================] - 0s 2ms/step - loss: 0.0834 - accuracy: 0.9817 - val_loss: 0.4864 - val_accuracy: 0.7883\n",
      "Epoch 9/20\n",
      "75/75 [==============================] - 0s 3ms/step - loss: 0.0651 - accuracy: 0.9854 - val_loss: 0.5202 - val_accuracy: 0.7800\n",
      "Epoch 10/20\n",
      "75/75 [==============================] - 0s 3ms/step - loss: 0.0514 - accuracy: 0.9892 - val_loss: 0.5265 - val_accuracy: 0.7800\n",
      "Epoch 11/20\n",
      "75/75 [==============================] - 0s 3ms/step - loss: 0.0439 - accuracy: 0.9925 - val_loss: 0.5501 - val_accuracy: 0.7867\n",
      "Epoch 12/20\n",
      "75/75 [==============================] - 0s 3ms/step - loss: 0.0347 - accuracy: 0.9937 - val_loss: 0.5788 - val_accuracy: 0.7800\n",
      "Epoch 13/20\n",
      "75/75 [==============================] - 0s 2ms/step - loss: 0.0289 - accuracy: 0.9942 - val_loss: 0.5973 - val_accuracy: 0.7783\n",
      "Epoch 14/20\n",
      "75/75 [==============================] - 0s 2ms/step - loss: 0.0244 - accuracy: 0.9950 - val_loss: 0.6228 - val_accuracy: 0.7750\n",
      "Epoch 15/20\n",
      "75/75 [==============================] - 0s 2ms/step - loss: 0.0213 - accuracy: 0.9962 - val_loss: 0.6371 - val_accuracy: 0.7733\n",
      "Epoch 16/20\n",
      "75/75 [==============================] - 0s 2ms/step - loss: 0.0183 - accuracy: 0.9967 - val_loss: 0.6603 - val_accuracy: 0.7700\n",
      "Epoch 17/20\n",
      "75/75 [==============================] - 0s 3ms/step - loss: 0.0164 - accuracy: 0.9962 - val_loss: 0.6946 - val_accuracy: 0.7617\n",
      "Epoch 18/20\n",
      "75/75 [==============================] - 0s 2ms/step - loss: 0.0147 - accuracy: 0.9967 - val_loss: 0.7019 - val_accuracy: 0.7617\n",
      "Epoch 19/20\n",
      "75/75 [==============================] - 0s 3ms/step - loss: 0.0131 - accuracy: 0.9975 - val_loss: 0.7251 - val_accuracy: 0.7567\n",
      "Epoch 20/20\n",
      "75/75 [==============================] - 0s 3ms/step - loss: 0.0118 - accuracy: 0.9975 - val_loss: 0.7399 - val_accuracy: 0.7617\n"
     ]
    }
   ],
   "source": [
    "num_epochs = 20\n",
    "history = model.fit(training_sentences, training_labels_final, \n",
    "                    epochs=num_epochs, validation_data=(testing_sentences, testing_labels_final))\n",
    "\n"
   ]
  },
  {
   "cell_type": "code",
   "execution_count": 2051,
   "metadata": {},
   "outputs": [],
   "source": [
    "# Third party code: https://realpython.com/python-keras-text-classification/\n",
    "\n",
    "plt.style.use('ggplot')\n",
    "\n",
    "def plot_history(history):\n",
    "    acc = history.history['accuracy']\n",
    "    val_acc = history.history['val_accuracy']\n",
    "    loss = history.history['loss']\n",
    "    val_loss = history.history['val_loss']\n",
    "    x = range(1, len(acc) + 1)\n",
    "\n",
    "    plt.figure(figsize=(12, 5))\n",
    "    plt.subplot(1, 2, 1)\n",
    "    plt.plot(x, acc, 'b', label='Training accuracy')\n",
    "    plt.plot(x, val_acc, 'r', label='Validation accuracy')\n",
    "    plt.title('Training and validation accuracy')\n",
    "    plt.legend()\n",
    "    plt.subplot(1, 2, 2)\n",
    "    plt.plot(x, loss, 'b', label='Training loss')\n",
    "    plt.plot(x, val_loss, 'r', label='Validation loss')\n",
    "    plt.title('Training and validation loss')\n",
    "    plt.legend()"
   ]
  },
  {
   "cell_type": "code",
   "execution_count": 2052,
   "metadata": {},
   "outputs": [
    {
     "data": {
      "image/png": "[encoded data removed]",
      "text/plain": [
       "<Figure size 864x360 with 2 Axes>"
      ]
     },
     "metadata": {},
     "output_type": "display_data"
    }
   ],
   "source": [
    "plot_history(history)"
   ]
  },
  {
   "cell_type": "code",
   "execution_count": 2069,
   "metadata": {},
   "outputs": [
    {
     "name": "stdout",
     "output_type": "stream",
     "text": [
      "Model: \"sequential_205\"\n",
      "_________________________________________________________________\n",
      " Layer (type)                Output Shape              Param #   \n",
      "=================================================================\n",
      " embedding_174 (Embedding)   (None, 42, 8)             34016     \n",
      "                                                                 \n",
      " flatten_147 (Flatten)       (None, 336)               0         \n",
      "                                                                 \n",
      " dense_403 (Dense)           (None, 8)                 2696      \n",
      "                                                                 \n",
      " dense_404 (Dense)           (None, 1)                 9         \n",
      "                                                                 \n",
      "=================================================================\n",
      "Total params: 36,721\n",
      "Trainable params: 36,721\n",
      "Non-trainable params: 0\n",
      "_________________________________________________________________\n"
     ]
    }
   ],
   "source": [
    "# New model\n",
    "model = Sequential()\n",
    "model.add(layers.Embedding(input_dim=vocab_size_1, \n",
    "                           output_dim = embedding_dim,\n",
    "                           input_length=max_len))\n",
    "\n",
    "model.add(layers.Flatten())\n",
    "model.add(layers.Dense(8, activation='relu'))\n",
    "model.add(layers.Dense(1, activation='sigmoid'))\n",
    "\n",
    "\n",
    "model.compile(optimizer='adam', \n",
    "              loss='binary_crossentropy',\n",
    "              metrics=['accuracy'])\n",
    "model.summary()"
   ]
  },
  {
   "cell_type": "code",
   "execution_count": 2066,
   "metadata": {},
   "outputs": [
    {
     "name": "stdout",
     "output_type": "stream",
     "text": [
      "Epoch 1/20\n",
      "75/75 [==============================] - 1s 3ms/step - loss: 0.6931 - accuracy: 0.5200 - val_loss: 0.6908 - val_accuracy: 0.5533\n",
      "Epoch 2/20\n",
      "75/75 [==============================] - 0s 2ms/step - loss: 0.6709 - accuracy: 0.7387 - val_loss: 0.6613 - val_accuracy: 0.7183\n",
      "Epoch 3/20\n",
      "75/75 [==============================] - 0s 2ms/step - loss: 0.5480 - accuracy: 0.8650 - val_loss: 0.5467 - val_accuracy: 0.7483\n",
      "Epoch 4/20\n",
      "75/75 [==============================] - 0s 2ms/step - loss: 0.3386 - accuracy: 0.9125 - val_loss: 0.4776 - val_accuracy: 0.7667\n",
      "Epoch 5/20\n",
      "75/75 [==============================] - 0s 2ms/step - loss: 0.2140 - accuracy: 0.9442 - val_loss: 0.4522 - val_accuracy: 0.7933\n",
      "Epoch 6/20\n",
      "75/75 [==============================] - 0s 2ms/step - loss: 0.1456 - accuracy: 0.9663 - val_loss: 0.4525 - val_accuracy: 0.7967\n"
     ]
    }
   ],
   "source": [
    "early_stopping = EarlyStopping(monitor='val_loss', mode='min', patience=1)\n",
    "\n",
    "\n",
    "history = model.fit(training_sentences, training_labels_final, \n",
    "                    epochs=num_epochs, validation_data=(testing_sentences, testing_labels_final), callbacks=early_stopping)\n",
    "\n",
    "\n"
   ]
  },
  {
   "cell_type": "code",
   "execution_count": 2067,
   "metadata": {},
   "outputs": [
    {
     "data": {
      "image/png": "[encoded data removed]",
      "text/plain": [
       "<Figure size 864x360 with 2 Axes>"
      ]
     },
     "metadata": {},
     "output_type": "display_data"
    }
   ],
   "source": [
    "plot_history(history)"
   ]
  },
  {
   "cell_type": "code",
   "execution_count": 2068,
   "metadata": {},
   "outputs": [
    {
     "name": "stdout",
     "output_type": "stream",
     "text": [
      "19/19 [==============================] - 0s 1ms/step - loss: 0.4525 - accuracy: 0.7967\n"
     ]
    },
    {
     "data": {
      "text/plain": [
       "[0.4524901211261749, 0.79666668176651]"
      ]
     },
     "execution_count": 2068,
     "metadata": {},
     "output_type": "execute_result"
    }
   ],
   "source": [
    "# Evaluate model\n",
    "score = model.evaluate(testing_sentences, testing_labels_final)\n",
    "score"
   ]
  },
  {
   "cell_type": "code",
   "execution_count": null,
   "metadata": {},
   "outputs": [],
   "source": []
  }
 ],
 "metadata": {
  "kernelspec": {
   "display_name": "Python 3",
   "language": "python",
   "name": "python3"
  },
  "language_info": {
   "codemirror_mode": {
    "name": "ipython",
    "version": 3
   },
   "file_extension": ".py",
   "mimetype": "text/x-python",
   "name": "python",
   "nbconvert_exporter": "python",
   "pygments_lexer": "ipython3",
   "version": "3.8.3"
  }
 },
 "nbformat": 4,
 "nbformat_minor": 4
}
