{
 "cells": [
  {
   "cell_type": "code",
   "execution_count": 267,
   "metadata": {},
   "outputs": [],
   "source": [
    "# Import relevant packages\n",
    "import pandas as pd\n",
    "import numpy as np \n",
    "import matplotlib.pyplot as plt\n",
    "import seaborn as sb\n",
    "import statsmodels.api as sm\n",
    "from sklearn.linear_model import LogisticRegression\n",
    "from sklearn.metrics import confusion_matrix, precision_score, recall_score, accuracy_score\n",
    "from sklearn.model_selection import train_test_split\n",
    "from patsy import dmatrices\n",
    "from statsmodels.stats.outliers_influence import variance_inflation_factor\n",
    "import warnings\n",
    "warnings.filterwarnings('ignore')\n",
    "%matplotlib inline"
   ]
  },
  {
   "cell_type": "code",
   "execution_count": 268,
   "metadata": {},
   "outputs": [],
   "source": [
    "# Load data\n",
    "pd.set_option('display.max_columns', None)\n",
    "df = pd.read_csv('medical_clean.csv')"
   ]
  },
  {
   "cell_type": "code",
   "execution_count": 269,
   "metadata": {},
   "outputs": [
    {
     "data": {
      "text/html": [
       "<div>\n",
       "<style scoped>\n",
       "    .dataframe tbody tr th:only-of-type {\n",
       "        vertical-align: middle;\n",
       "    }\n",
       "\n",
       "    .dataframe tbody tr th {\n",
       "        vertical-align: top;\n",
       "    }\n",
       "\n",
       "    .dataframe thead th {\n",
       "        text-align: right;\n",
       "    }\n",
       "</style>\n",
       "<table border=\"1\" class=\"dataframe\">\n",
       "  <thead>\n",
       "    <tr style=\"text-align: right;\">\n",
       "      <th></th>\n",
       "      <th>CaseOrder</th>\n",
       "      <th>Customer_id</th>\n",
       "      <th>Interaction</th>\n",
       "      <th>UID</th>\n",
       "      <th>City</th>\n",
       "      <th>State</th>\n",
       "      <th>County</th>\n",
       "      <th>Zip</th>\n",
       "      <th>Lat</th>\n",
       "      <th>Lng</th>\n",
       "      <th>Population</th>\n",
       "      <th>Area</th>\n",
       "      <th>TimeZone</th>\n",
       "      <th>Job</th>\n",
       "      <th>Children</th>\n",
       "      <th>Age</th>\n",
       "      <th>Income</th>\n",
       "      <th>Marital</th>\n",
       "      <th>Gender</th>\n",
       "      <th>ReAdmis</th>\n",
       "      <th>VitD_levels</th>\n",
       "      <th>Doc_visits</th>\n",
       "      <th>Full_meals_eaten</th>\n",
       "      <th>vitD_supp</th>\n",
       "      <th>Soft_drink</th>\n",
       "      <th>Initial_admin</th>\n",
       "      <th>HighBlood</th>\n",
       "      <th>Stroke</th>\n",
       "      <th>Complication_risk</th>\n",
       "      <th>Overweight</th>\n",
       "      <th>Arthritis</th>\n",
       "      <th>Diabetes</th>\n",
       "      <th>Hyperlipidemia</th>\n",
       "      <th>BackPain</th>\n",
       "      <th>Anxiety</th>\n",
       "      <th>Allergic_rhinitis</th>\n",
       "      <th>Reflux_esophagitis</th>\n",
       "      <th>Asthma</th>\n",
       "      <th>Services</th>\n",
       "      <th>Initial_days</th>\n",
       "      <th>TotalCharge</th>\n",
       "      <th>Additional_charges</th>\n",
       "      <th>Item1</th>\n",
       "      <th>Item2</th>\n",
       "      <th>Item3</th>\n",
       "      <th>Item4</th>\n",
       "      <th>Item5</th>\n",
       "      <th>Item6</th>\n",
       "      <th>Item7</th>\n",
       "      <th>Item8</th>\n",
       "    </tr>\n",
       "  </thead>\n",
       "  <tbody>\n",
       "    <tr>\n",
       "      <th>0</th>\n",
       "      <td>1</td>\n",
       "      <td>C412403</td>\n",
       "      <td>8cd49b13-f45a-4b47-a2bd-173ffa932c2f</td>\n",
       "      <td>3a83ddb66e2ae73798bdf1d705dc0932</td>\n",
       "      <td>Eva</td>\n",
       "      <td>AL</td>\n",
       "      <td>Morgan</td>\n",
       "      <td>35621</td>\n",
       "      <td>34.34960</td>\n",
       "      <td>-86.72508</td>\n",
       "      <td>2951</td>\n",
       "      <td>Suburban</td>\n",
       "      <td>America/Chicago</td>\n",
       "      <td>Psychologist, sport and exercise</td>\n",
       "      <td>1</td>\n",
       "      <td>53</td>\n",
       "      <td>86575.93</td>\n",
       "      <td>Divorced</td>\n",
       "      <td>Male</td>\n",
       "      <td>No</td>\n",
       "      <td>19.141466</td>\n",
       "      <td>6</td>\n",
       "      <td>0</td>\n",
       "      <td>0</td>\n",
       "      <td>No</td>\n",
       "      <td>Emergency Admission</td>\n",
       "      <td>Yes</td>\n",
       "      <td>No</td>\n",
       "      <td>Medium</td>\n",
       "      <td>No</td>\n",
       "      <td>Yes</td>\n",
       "      <td>Yes</td>\n",
       "      <td>No</td>\n",
       "      <td>Yes</td>\n",
       "      <td>Yes</td>\n",
       "      <td>Yes</td>\n",
       "      <td>No</td>\n",
       "      <td>Yes</td>\n",
       "      <td>Blood Work</td>\n",
       "      <td>10.585770</td>\n",
       "      <td>3726.702860</td>\n",
       "      <td>17939.403420</td>\n",
       "      <td>3</td>\n",
       "      <td>3</td>\n",
       "      <td>2</td>\n",
       "      <td>2</td>\n",
       "      <td>4</td>\n",
       "      <td>3</td>\n",
       "      <td>3</td>\n",
       "      <td>4</td>\n",
       "    </tr>\n",
       "    <tr>\n",
       "      <th>1</th>\n",
       "      <td>2</td>\n",
       "      <td>Z919181</td>\n",
       "      <td>d2450b70-0337-4406-bdbb-bc1037f1734c</td>\n",
       "      <td>176354c5eef714957d486009feabf195</td>\n",
       "      <td>Marianna</td>\n",
       "      <td>FL</td>\n",
       "      <td>Jackson</td>\n",
       "      <td>32446</td>\n",
       "      <td>30.84513</td>\n",
       "      <td>-85.22907</td>\n",
       "      <td>11303</td>\n",
       "      <td>Urban</td>\n",
       "      <td>America/Chicago</td>\n",
       "      <td>Community development worker</td>\n",
       "      <td>3</td>\n",
       "      <td>51</td>\n",
       "      <td>46805.99</td>\n",
       "      <td>Married</td>\n",
       "      <td>Female</td>\n",
       "      <td>No</td>\n",
       "      <td>18.940352</td>\n",
       "      <td>4</td>\n",
       "      <td>2</td>\n",
       "      <td>1</td>\n",
       "      <td>No</td>\n",
       "      <td>Emergency Admission</td>\n",
       "      <td>Yes</td>\n",
       "      <td>No</td>\n",
       "      <td>High</td>\n",
       "      <td>Yes</td>\n",
       "      <td>No</td>\n",
       "      <td>No</td>\n",
       "      <td>No</td>\n",
       "      <td>No</td>\n",
       "      <td>No</td>\n",
       "      <td>No</td>\n",
       "      <td>Yes</td>\n",
       "      <td>No</td>\n",
       "      <td>Intravenous</td>\n",
       "      <td>15.129562</td>\n",
       "      <td>4193.190458</td>\n",
       "      <td>17612.998120</td>\n",
       "      <td>3</td>\n",
       "      <td>4</td>\n",
       "      <td>3</td>\n",
       "      <td>4</td>\n",
       "      <td>4</td>\n",
       "      <td>4</td>\n",
       "      <td>3</td>\n",
       "      <td>3</td>\n",
       "    </tr>\n",
       "    <tr>\n",
       "      <th>2</th>\n",
       "      <td>3</td>\n",
       "      <td>F995323</td>\n",
       "      <td>a2057123-abf5-4a2c-abad-8ffe33512562</td>\n",
       "      <td>e19a0fa00aeda885b8a436757e889bc9</td>\n",
       "      <td>Sioux Falls</td>\n",
       "      <td>SD</td>\n",
       "      <td>Minnehaha</td>\n",
       "      <td>57110</td>\n",
       "      <td>43.54321</td>\n",
       "      <td>-96.63772</td>\n",
       "      <td>17125</td>\n",
       "      <td>Suburban</td>\n",
       "      <td>America/Chicago</td>\n",
       "      <td>Chief Executive Officer</td>\n",
       "      <td>3</td>\n",
       "      <td>53</td>\n",
       "      <td>14370.14</td>\n",
       "      <td>Widowed</td>\n",
       "      <td>Female</td>\n",
       "      <td>No</td>\n",
       "      <td>18.057507</td>\n",
       "      <td>4</td>\n",
       "      <td>1</td>\n",
       "      <td>0</td>\n",
       "      <td>No</td>\n",
       "      <td>Elective Admission</td>\n",
       "      <td>Yes</td>\n",
       "      <td>No</td>\n",
       "      <td>Medium</td>\n",
       "      <td>Yes</td>\n",
       "      <td>No</td>\n",
       "      <td>Yes</td>\n",
       "      <td>No</td>\n",
       "      <td>No</td>\n",
       "      <td>No</td>\n",
       "      <td>No</td>\n",
       "      <td>No</td>\n",
       "      <td>No</td>\n",
       "      <td>Blood Work</td>\n",
       "      <td>4.772177</td>\n",
       "      <td>2434.234222</td>\n",
       "      <td>17505.192460</td>\n",
       "      <td>2</td>\n",
       "      <td>4</td>\n",
       "      <td>4</td>\n",
       "      <td>4</td>\n",
       "      <td>3</td>\n",
       "      <td>4</td>\n",
       "      <td>3</td>\n",
       "      <td>3</td>\n",
       "    </tr>\n",
       "    <tr>\n",
       "      <th>3</th>\n",
       "      <td>4</td>\n",
       "      <td>A879973</td>\n",
       "      <td>1dec528d-eb34-4079-adce-0d7a40e82205</td>\n",
       "      <td>cd17d7b6d152cb6f23957346d11c3f07</td>\n",
       "      <td>New Richland</td>\n",
       "      <td>MN</td>\n",
       "      <td>Waseca</td>\n",
       "      <td>56072</td>\n",
       "      <td>43.89744</td>\n",
       "      <td>-93.51479</td>\n",
       "      <td>2162</td>\n",
       "      <td>Suburban</td>\n",
       "      <td>America/Chicago</td>\n",
       "      <td>Early years teacher</td>\n",
       "      <td>0</td>\n",
       "      <td>78</td>\n",
       "      <td>39741.49</td>\n",
       "      <td>Married</td>\n",
       "      <td>Male</td>\n",
       "      <td>No</td>\n",
       "      <td>16.576858</td>\n",
       "      <td>4</td>\n",
       "      <td>1</td>\n",
       "      <td>0</td>\n",
       "      <td>No</td>\n",
       "      <td>Elective Admission</td>\n",
       "      <td>No</td>\n",
       "      <td>Yes</td>\n",
       "      <td>Medium</td>\n",
       "      <td>No</td>\n",
       "      <td>Yes</td>\n",
       "      <td>No</td>\n",
       "      <td>No</td>\n",
       "      <td>No</td>\n",
       "      <td>No</td>\n",
       "      <td>No</td>\n",
       "      <td>Yes</td>\n",
       "      <td>Yes</td>\n",
       "      <td>Blood Work</td>\n",
       "      <td>1.714879</td>\n",
       "      <td>2127.830423</td>\n",
       "      <td>12993.437350</td>\n",
       "      <td>3</td>\n",
       "      <td>5</td>\n",
       "      <td>5</td>\n",
       "      <td>3</td>\n",
       "      <td>4</td>\n",
       "      <td>5</td>\n",
       "      <td>5</td>\n",
       "      <td>5</td>\n",
       "    </tr>\n",
       "    <tr>\n",
       "      <th>4</th>\n",
       "      <td>5</td>\n",
       "      <td>C544523</td>\n",
       "      <td>5885f56b-d6da-43a3-8760-83583af94266</td>\n",
       "      <td>d2f0425877b10ed6bb381f3e2579424a</td>\n",
       "      <td>West Point</td>\n",
       "      <td>VA</td>\n",
       "      <td>King William</td>\n",
       "      <td>23181</td>\n",
       "      <td>37.59894</td>\n",
       "      <td>-76.88958</td>\n",
       "      <td>5287</td>\n",
       "      <td>Rural</td>\n",
       "      <td>America/New_York</td>\n",
       "      <td>Health promotion specialist</td>\n",
       "      <td>1</td>\n",
       "      <td>22</td>\n",
       "      <td>1209.56</td>\n",
       "      <td>Widowed</td>\n",
       "      <td>Female</td>\n",
       "      <td>No</td>\n",
       "      <td>17.439069</td>\n",
       "      <td>5</td>\n",
       "      <td>0</td>\n",
       "      <td>2</td>\n",
       "      <td>Yes</td>\n",
       "      <td>Elective Admission</td>\n",
       "      <td>No</td>\n",
       "      <td>No</td>\n",
       "      <td>Low</td>\n",
       "      <td>No</td>\n",
       "      <td>No</td>\n",
       "      <td>No</td>\n",
       "      <td>Yes</td>\n",
       "      <td>No</td>\n",
       "      <td>No</td>\n",
       "      <td>Yes</td>\n",
       "      <td>No</td>\n",
       "      <td>No</td>\n",
       "      <td>CT Scan</td>\n",
       "      <td>1.254807</td>\n",
       "      <td>2113.073274</td>\n",
       "      <td>3716.525786</td>\n",
       "      <td>2</td>\n",
       "      <td>1</td>\n",
       "      <td>3</td>\n",
       "      <td>3</td>\n",
       "      <td>5</td>\n",
       "      <td>3</td>\n",
       "      <td>4</td>\n",
       "      <td>3</td>\n",
       "    </tr>\n",
       "  </tbody>\n",
       "</table>\n",
       "</div>"
      ],
      "text/plain": [
       "   CaseOrder Customer_id                           Interaction  \\\n",
       "0          1     C412403  8cd49b13-f45a-4b47-a2bd-173ffa932c2f   \n",
       "1          2     Z919181  d2450b70-0337-4406-bdbb-bc1037f1734c   \n",
       "2          3     F995323  a2057123-abf5-4a2c-abad-8ffe33512562   \n",
       "3          4     A879973  1dec528d-eb34-4079-adce-0d7a40e82205   \n",
       "4          5     C544523  5885f56b-d6da-43a3-8760-83583af94266   \n",
       "\n",
       "                                UID          City State        County    Zip  \\\n",
       "0  3a83ddb66e2ae73798bdf1d705dc0932           Eva    AL        Morgan  35621   \n",
       "1  176354c5eef714957d486009feabf195      Marianna    FL       Jackson  32446   \n",
       "2  e19a0fa00aeda885b8a436757e889bc9   Sioux Falls    SD     Minnehaha  57110   \n",
       "3  cd17d7b6d152cb6f23957346d11c3f07  New Richland    MN        Waseca  56072   \n",
       "4  d2f0425877b10ed6bb381f3e2579424a    West Point    VA  King William  23181   \n",
       "\n",
       "        Lat       Lng  Population      Area          TimeZone  \\\n",
       "0  34.34960 -86.72508        2951  Suburban   America/Chicago   \n",
       "1  30.84513 -85.22907       11303     Urban   America/Chicago   \n",
       "2  43.54321 -96.63772       17125  Suburban   America/Chicago   \n",
       "3  43.89744 -93.51479        2162  Suburban   America/Chicago   \n",
       "4  37.59894 -76.88958        5287     Rural  America/New_York   \n",
       "\n",
       "                                Job  Children  Age    Income   Marital  \\\n",
       "0  Psychologist, sport and exercise         1   53  86575.93  Divorced   \n",
       "1      Community development worker         3   51  46805.99   Married   \n",
       "2           Chief Executive Officer         3   53  14370.14   Widowed   \n",
       "3               Early years teacher         0   78  39741.49   Married   \n",
       "4       Health promotion specialist         1   22   1209.56   Widowed   \n",
       "\n",
       "   Gender ReAdmis  VitD_levels  Doc_visits  Full_meals_eaten  vitD_supp  \\\n",
       "0    Male      No    19.141466           6                 0          0   \n",
       "1  Female      No    18.940352           4                 2          1   \n",
       "2  Female      No    18.057507           4                 1          0   \n",
       "3    Male      No    16.576858           4                 1          0   \n",
       "4  Female      No    17.439069           5                 0          2   \n",
       "\n",
       "  Soft_drink        Initial_admin HighBlood Stroke Complication_risk  \\\n",
       "0         No  Emergency Admission       Yes     No            Medium   \n",
       "1         No  Emergency Admission       Yes     No              High   \n",
       "2         No   Elective Admission       Yes     No            Medium   \n",
       "3         No   Elective Admission        No    Yes            Medium   \n",
       "4        Yes   Elective Admission        No     No               Low   \n",
       "\n",
       "  Overweight Arthritis Diabetes Hyperlipidemia BackPain Anxiety  \\\n",
       "0         No       Yes      Yes             No      Yes     Yes   \n",
       "1        Yes        No       No             No       No      No   \n",
       "2        Yes        No      Yes             No       No      No   \n",
       "3         No       Yes       No             No       No      No   \n",
       "4         No        No       No            Yes       No      No   \n",
       "\n",
       "  Allergic_rhinitis Reflux_esophagitis Asthma     Services  Initial_days  \\\n",
       "0               Yes                 No    Yes   Blood Work     10.585770   \n",
       "1                No                Yes     No  Intravenous     15.129562   \n",
       "2                No                 No     No   Blood Work      4.772177   \n",
       "3                No                Yes    Yes   Blood Work      1.714879   \n",
       "4               Yes                 No     No      CT Scan      1.254807   \n",
       "\n",
       "   TotalCharge  Additional_charges  Item1  Item2  Item3  Item4  Item5  Item6  \\\n",
       "0  3726.702860        17939.403420      3      3      2      2      4      3   \n",
       "1  4193.190458        17612.998120      3      4      3      4      4      4   \n",
       "2  2434.234222        17505.192460      2      4      4      4      3      4   \n",
       "3  2127.830423        12993.437350      3      5      5      3      4      5   \n",
       "4  2113.073274         3716.525786      2      1      3      3      5      3   \n",
       "\n",
       "   Item7  Item8  \n",
       "0      3      4  \n",
       "1      3      3  \n",
       "2      3      3  \n",
       "3      5      5  \n",
       "4      4      3  "
      ]
     },
     "execution_count": 269,
     "metadata": {},
     "output_type": "execute_result"
    }
   ],
   "source": [
    "# View dataframe\n",
    "df.head()"
   ]
  },
  {
   "cell_type": "code",
   "execution_count": 270,
   "metadata": {},
   "outputs": [
    {
     "name": "stdout",
     "output_type": "stream",
     "text": [
      "<class 'pandas.core.frame.DataFrame'>\n",
      "RangeIndex: 10000 entries, 0 to 9999\n",
      "Data columns (total 50 columns):\n",
      " #   Column              Non-Null Count  Dtype  \n",
      "---  ------              --------------  -----  \n",
      " 0   CaseOrder           10000 non-null  int64  \n",
      " 1   Customer_id         10000 non-null  object \n",
      " 2   Interaction         10000 non-null  object \n",
      " 3   UID                 10000 non-null  object \n",
      " 4   City                10000 non-null  object \n",
      " 5   State               10000 non-null  object \n",
      " 6   County              10000 non-null  object \n",
      " 7   Zip                 10000 non-null  int64  \n",
      " 8   Lat                 10000 non-null  float64\n",
      " 9   Lng                 10000 non-null  float64\n",
      " 10  Population          10000 non-null  int64  \n",
      " 11  Area                10000 non-null  object \n",
      " 12  TimeZone            10000 non-null  object \n",
      " 13  Job                 10000 non-null  object \n",
      " 14  Children            10000 non-null  int64  \n",
      " 15  Age                 10000 non-null  int64  \n",
      " 16  Income              10000 non-null  float64\n",
      " 17  Marital             10000 non-null  object \n",
      " 18  Gender              10000 non-null  object \n",
      " 19  ReAdmis             10000 non-null  object \n",
      " 20  VitD_levels         10000 non-null  float64\n",
      " 21  Doc_visits          10000 non-null  int64  \n",
      " 22  Full_meals_eaten    10000 non-null  int64  \n",
      " 23  vitD_supp           10000 non-null  int64  \n",
      " 24  Soft_drink          10000 non-null  object \n",
      " 25  Initial_admin       10000 non-null  object \n",
      " 26  HighBlood           10000 non-null  object \n",
      " 27  Stroke              10000 non-null  object \n",
      " 28  Complication_risk   10000 non-null  object \n",
      " 29  Overweight          10000 non-null  object \n",
      " 30  Arthritis           10000 non-null  object \n",
      " 31  Diabetes            10000 non-null  object \n",
      " 32  Hyperlipidemia      10000 non-null  object \n",
      " 33  BackPain            10000 non-null  object \n",
      " 34  Anxiety             10000 non-null  object \n",
      " 35  Allergic_rhinitis   10000 non-null  object \n",
      " 36  Reflux_esophagitis  10000 non-null  object \n",
      " 37  Asthma              10000 non-null  object \n",
      " 38  Services            10000 non-null  object \n",
      " 39  Initial_days        10000 non-null  float64\n",
      " 40  TotalCharge         10000 non-null  float64\n",
      " 41  Additional_charges  10000 non-null  float64\n",
      " 42  Item1               10000 non-null  int64  \n",
      " 43  Item2               10000 non-null  int64  \n",
      " 44  Item3               10000 non-null  int64  \n",
      " 45  Item4               10000 non-null  int64  \n",
      " 46  Item5               10000 non-null  int64  \n",
      " 47  Item6               10000 non-null  int64  \n",
      " 48  Item7               10000 non-null  int64  \n",
      " 49  Item8               10000 non-null  int64  \n",
      "dtypes: float64(7), int64(16), object(27)\n",
      "memory usage: 3.8+ MB\n"
     ]
    }
   ],
   "source": [
    "# View dataframe\n",
    "df.info()"
   ]
  },
  {
   "cell_type": "code",
   "execution_count": 271,
   "metadata": {},
   "outputs": [
    {
     "data": {
      "text/html": [
       "<div>\n",
       "<style scoped>\n",
       "    .dataframe tbody tr th:only-of-type {\n",
       "        vertical-align: middle;\n",
       "    }\n",
       "\n",
       "    .dataframe tbody tr th {\n",
       "        vertical-align: top;\n",
       "    }\n",
       "\n",
       "    .dataframe thead th {\n",
       "        text-align: right;\n",
       "    }\n",
       "</style>\n",
       "<table border=\"1\" class=\"dataframe\">\n",
       "  <thead>\n",
       "    <tr style=\"text-align: right;\">\n",
       "      <th></th>\n",
       "      <th>CaseOrder</th>\n",
       "      <th>Zip</th>\n",
       "      <th>Lat</th>\n",
       "      <th>Lng</th>\n",
       "      <th>Population</th>\n",
       "      <th>Children</th>\n",
       "      <th>Age</th>\n",
       "      <th>Income</th>\n",
       "      <th>VitD_levels</th>\n",
       "      <th>Doc_visits</th>\n",
       "      <th>Full_meals_eaten</th>\n",
       "      <th>vitD_supp</th>\n",
       "      <th>Initial_days</th>\n",
       "      <th>TotalCharge</th>\n",
       "      <th>Additional_charges</th>\n",
       "      <th>Item1</th>\n",
       "      <th>Item2</th>\n",
       "      <th>Item3</th>\n",
       "      <th>Item4</th>\n",
       "      <th>Item5</th>\n",
       "      <th>Item6</th>\n",
       "      <th>Item7</th>\n",
       "      <th>Item8</th>\n",
       "    </tr>\n",
       "  </thead>\n",
       "  <tbody>\n",
       "    <tr>\n",
       "      <th>count</th>\n",
       "      <td>10000.00000</td>\n",
       "      <td>10000.000000</td>\n",
       "      <td>10000.000000</td>\n",
       "      <td>10000.000000</td>\n",
       "      <td>10000.000000</td>\n",
       "      <td>10000.000000</td>\n",
       "      <td>10000.000000</td>\n",
       "      <td>10000.000000</td>\n",
       "      <td>10000.000000</td>\n",
       "      <td>10000.000000</td>\n",
       "      <td>10000.000000</td>\n",
       "      <td>10000.000000</td>\n",
       "      <td>10000.000000</td>\n",
       "      <td>10000.000000</td>\n",
       "      <td>10000.000000</td>\n",
       "      <td>10000.000000</td>\n",
       "      <td>10000.000000</td>\n",
       "      <td>10000.000000</td>\n",
       "      <td>10000.000000</td>\n",
       "      <td>10000.000000</td>\n",
       "      <td>10000.000000</td>\n",
       "      <td>10000.000000</td>\n",
       "      <td>10000.000000</td>\n",
       "    </tr>\n",
       "    <tr>\n",
       "      <th>mean</th>\n",
       "      <td>5000.50000</td>\n",
       "      <td>50159.323900</td>\n",
       "      <td>38.751099</td>\n",
       "      <td>-91.243080</td>\n",
       "      <td>9965.253800</td>\n",
       "      <td>2.097200</td>\n",
       "      <td>53.511700</td>\n",
       "      <td>40490.495160</td>\n",
       "      <td>17.964262</td>\n",
       "      <td>5.012200</td>\n",
       "      <td>1.001400</td>\n",
       "      <td>0.398900</td>\n",
       "      <td>34.455299</td>\n",
       "      <td>5312.172769</td>\n",
       "      <td>12934.528587</td>\n",
       "      <td>3.518800</td>\n",
       "      <td>3.506700</td>\n",
       "      <td>3.511100</td>\n",
       "      <td>3.515100</td>\n",
       "      <td>3.496900</td>\n",
       "      <td>3.522500</td>\n",
       "      <td>3.494000</td>\n",
       "      <td>3.509700</td>\n",
       "    </tr>\n",
       "    <tr>\n",
       "      <th>std</th>\n",
       "      <td>2886.89568</td>\n",
       "      <td>27469.588208</td>\n",
       "      <td>5.403085</td>\n",
       "      <td>15.205998</td>\n",
       "      <td>14824.758614</td>\n",
       "      <td>2.163659</td>\n",
       "      <td>20.638538</td>\n",
       "      <td>28521.153293</td>\n",
       "      <td>2.017231</td>\n",
       "      <td>1.045734</td>\n",
       "      <td>1.008117</td>\n",
       "      <td>0.628505</td>\n",
       "      <td>26.309341</td>\n",
       "      <td>2180.393838</td>\n",
       "      <td>6542.601544</td>\n",
       "      <td>1.031966</td>\n",
       "      <td>1.034825</td>\n",
       "      <td>1.032755</td>\n",
       "      <td>1.036282</td>\n",
       "      <td>1.030192</td>\n",
       "      <td>1.032376</td>\n",
       "      <td>1.021405</td>\n",
       "      <td>1.042312</td>\n",
       "    </tr>\n",
       "    <tr>\n",
       "      <th>min</th>\n",
       "      <td>1.00000</td>\n",
       "      <td>610.000000</td>\n",
       "      <td>17.967190</td>\n",
       "      <td>-174.209700</td>\n",
       "      <td>0.000000</td>\n",
       "      <td>0.000000</td>\n",
       "      <td>18.000000</td>\n",
       "      <td>154.080000</td>\n",
       "      <td>9.806483</td>\n",
       "      <td>1.000000</td>\n",
       "      <td>0.000000</td>\n",
       "      <td>0.000000</td>\n",
       "      <td>1.001981</td>\n",
       "      <td>1938.312067</td>\n",
       "      <td>3125.703000</td>\n",
       "      <td>1.000000</td>\n",
       "      <td>1.000000</td>\n",
       "      <td>1.000000</td>\n",
       "      <td>1.000000</td>\n",
       "      <td>1.000000</td>\n",
       "      <td>1.000000</td>\n",
       "      <td>1.000000</td>\n",
       "      <td>1.000000</td>\n",
       "    </tr>\n",
       "    <tr>\n",
       "      <th>25%</th>\n",
       "      <td>2500.75000</td>\n",
       "      <td>27592.000000</td>\n",
       "      <td>35.255120</td>\n",
       "      <td>-97.352982</td>\n",
       "      <td>694.750000</td>\n",
       "      <td>0.000000</td>\n",
       "      <td>36.000000</td>\n",
       "      <td>19598.775000</td>\n",
       "      <td>16.626439</td>\n",
       "      <td>4.000000</td>\n",
       "      <td>0.000000</td>\n",
       "      <td>0.000000</td>\n",
       "      <td>7.896215</td>\n",
       "      <td>3179.374015</td>\n",
       "      <td>7986.487755</td>\n",
       "      <td>3.000000</td>\n",
       "      <td>3.000000</td>\n",
       "      <td>3.000000</td>\n",
       "      <td>3.000000</td>\n",
       "      <td>3.000000</td>\n",
       "      <td>3.000000</td>\n",
       "      <td>3.000000</td>\n",
       "      <td>3.000000</td>\n",
       "    </tr>\n",
       "    <tr>\n",
       "      <th>50%</th>\n",
       "      <td>5000.50000</td>\n",
       "      <td>50207.000000</td>\n",
       "      <td>39.419355</td>\n",
       "      <td>-88.397230</td>\n",
       "      <td>2769.000000</td>\n",
       "      <td>1.000000</td>\n",
       "      <td>53.000000</td>\n",
       "      <td>33768.420000</td>\n",
       "      <td>17.951122</td>\n",
       "      <td>5.000000</td>\n",
       "      <td>1.000000</td>\n",
       "      <td>0.000000</td>\n",
       "      <td>35.836244</td>\n",
       "      <td>5213.952000</td>\n",
       "      <td>11573.977735</td>\n",
       "      <td>4.000000</td>\n",
       "      <td>3.000000</td>\n",
       "      <td>4.000000</td>\n",
       "      <td>4.000000</td>\n",
       "      <td>3.000000</td>\n",
       "      <td>4.000000</td>\n",
       "      <td>3.000000</td>\n",
       "      <td>3.000000</td>\n",
       "    </tr>\n",
       "    <tr>\n",
       "      <th>75%</th>\n",
       "      <td>7500.25000</td>\n",
       "      <td>72411.750000</td>\n",
       "      <td>42.044175</td>\n",
       "      <td>-80.438050</td>\n",
       "      <td>13945.000000</td>\n",
       "      <td>3.000000</td>\n",
       "      <td>71.000000</td>\n",
       "      <td>54296.402500</td>\n",
       "      <td>19.347963</td>\n",
       "      <td>6.000000</td>\n",
       "      <td>2.000000</td>\n",
       "      <td>1.000000</td>\n",
       "      <td>61.161020</td>\n",
       "      <td>7459.699750</td>\n",
       "      <td>15626.490000</td>\n",
       "      <td>4.000000</td>\n",
       "      <td>4.000000</td>\n",
       "      <td>4.000000</td>\n",
       "      <td>4.000000</td>\n",
       "      <td>4.000000</td>\n",
       "      <td>4.000000</td>\n",
       "      <td>4.000000</td>\n",
       "      <td>4.000000</td>\n",
       "    </tr>\n",
       "    <tr>\n",
       "      <th>max</th>\n",
       "      <td>10000.00000</td>\n",
       "      <td>99929.000000</td>\n",
       "      <td>70.560990</td>\n",
       "      <td>-65.290170</td>\n",
       "      <td>122814.000000</td>\n",
       "      <td>10.000000</td>\n",
       "      <td>89.000000</td>\n",
       "      <td>207249.100000</td>\n",
       "      <td>26.394449</td>\n",
       "      <td>9.000000</td>\n",
       "      <td>7.000000</td>\n",
       "      <td>5.000000</td>\n",
       "      <td>71.981490</td>\n",
       "      <td>9180.728000</td>\n",
       "      <td>30566.070000</td>\n",
       "      <td>8.000000</td>\n",
       "      <td>7.000000</td>\n",
       "      <td>8.000000</td>\n",
       "      <td>7.000000</td>\n",
       "      <td>7.000000</td>\n",
       "      <td>7.000000</td>\n",
       "      <td>7.000000</td>\n",
       "      <td>7.000000</td>\n",
       "    </tr>\n",
       "  </tbody>\n",
       "</table>\n",
       "</div>"
      ],
      "text/plain": [
       "         CaseOrder           Zip           Lat           Lng     Population  \\\n",
       "count  10000.00000  10000.000000  10000.000000  10000.000000   10000.000000   \n",
       "mean    5000.50000  50159.323900     38.751099    -91.243080    9965.253800   \n",
       "std     2886.89568  27469.588208      5.403085     15.205998   14824.758614   \n",
       "min        1.00000    610.000000     17.967190   -174.209700       0.000000   \n",
       "25%     2500.75000  27592.000000     35.255120    -97.352982     694.750000   \n",
       "50%     5000.50000  50207.000000     39.419355    -88.397230    2769.000000   \n",
       "75%     7500.25000  72411.750000     42.044175    -80.438050   13945.000000   \n",
       "max    10000.00000  99929.000000     70.560990    -65.290170  122814.000000   \n",
       "\n",
       "           Children           Age         Income   VitD_levels    Doc_visits  \\\n",
       "count  10000.000000  10000.000000   10000.000000  10000.000000  10000.000000   \n",
       "mean       2.097200     53.511700   40490.495160     17.964262      5.012200   \n",
       "std        2.163659     20.638538   28521.153293      2.017231      1.045734   \n",
       "min        0.000000     18.000000     154.080000      9.806483      1.000000   \n",
       "25%        0.000000     36.000000   19598.775000     16.626439      4.000000   \n",
       "50%        1.000000     53.000000   33768.420000     17.951122      5.000000   \n",
       "75%        3.000000     71.000000   54296.402500     19.347963      6.000000   \n",
       "max       10.000000     89.000000  207249.100000     26.394449      9.000000   \n",
       "\n",
       "       Full_meals_eaten     vitD_supp  Initial_days   TotalCharge  \\\n",
       "count      10000.000000  10000.000000  10000.000000  10000.000000   \n",
       "mean           1.001400      0.398900     34.455299   5312.172769   \n",
       "std            1.008117      0.628505     26.309341   2180.393838   \n",
       "min            0.000000      0.000000      1.001981   1938.312067   \n",
       "25%            0.000000      0.000000      7.896215   3179.374015   \n",
       "50%            1.000000      0.000000     35.836244   5213.952000   \n",
       "75%            2.000000      1.000000     61.161020   7459.699750   \n",
       "max            7.000000      5.000000     71.981490   9180.728000   \n",
       "\n",
       "       Additional_charges         Item1         Item2         Item3  \\\n",
       "count        10000.000000  10000.000000  10000.000000  10000.000000   \n",
       "mean         12934.528587      3.518800      3.506700      3.511100   \n",
       "std           6542.601544      1.031966      1.034825      1.032755   \n",
       "min           3125.703000      1.000000      1.000000      1.000000   \n",
       "25%           7986.487755      3.000000      3.000000      3.000000   \n",
       "50%          11573.977735      4.000000      3.000000      4.000000   \n",
       "75%          15626.490000      4.000000      4.000000      4.000000   \n",
       "max          30566.070000      8.000000      7.000000      8.000000   \n",
       "\n",
       "              Item4         Item5         Item6         Item7         Item8  \n",
       "count  10000.000000  10000.000000  10000.000000  10000.000000  10000.000000  \n",
       "mean       3.515100      3.496900      3.522500      3.494000      3.509700  \n",
       "std        1.036282      1.030192      1.032376      1.021405      1.042312  \n",
       "min        1.000000      1.000000      1.000000      1.000000      1.000000  \n",
       "25%        3.000000      3.000000      3.000000      3.000000      3.000000  \n",
       "50%        4.000000      3.000000      4.000000      3.000000      3.000000  \n",
       "75%        4.000000      4.000000      4.000000      4.000000      4.000000  \n",
       "max        7.000000      7.000000      7.000000      7.000000      7.000000  "
      ]
     },
     "execution_count": 271,
     "metadata": {},
     "output_type": "execute_result"
    }
   ],
   "source": [
    "df.describe()"
   ]
  },
  {
   "cell_type": "code",
   "execution_count": 272,
   "metadata": {},
   "outputs": [],
   "source": [
    "# Looks like there are no obvious outliers, and no values missing."
   ]
  },
  {
   "cell_type": "code",
   "execution_count": 273,
   "metadata": {},
   "outputs": [],
   "source": [
    "# Let's drop columns we aren't going to use (because they don't hold data we can use).\n",
    "df.drop(['CaseOrder', 'Customer_id', 'Interaction', 'UID'], axis = 1, inplace=True)"
   ]
  },
  {
   "cell_type": "code",
   "execution_count": 274,
   "metadata": {},
   "outputs": [
    {
     "name": "stdout",
     "output_type": "stream",
     "text": [
      "1607\n",
      "6072\n",
      "8612\n"
     ]
    }
   ],
   "source": [
    "# I don't want to include other columns for various reasons. State, City, County, and Zip are categorical, and the latter three have hundreds or thousands of different categories. This will overcomplicate the model and dataset, and are also somewhat redunant since we are using Latitude and Longitude. Furthermore, there is likely to be multicollinearity with these variables since they are all related to location.\n",
    "print(df['County'].nunique())\n",
    "print(df['City'].nunique())\n",
    "print(df['Zip'].nunique())\n",
    "df.drop(['County', 'City', 'Zip', 'State'], axis = 1, inplace=True)"
   ]
  },
  {
   "cell_type": "code",
   "execution_count": 275,
   "metadata": {},
   "outputs": [],
   "source": [
    "# Job and timezone are other categorical variables with too many categories and/or likely no useful (to the model) information.\n",
    "df.drop(['Job', 'TimeZone'], axis = 1, inplace=True)"
   ]
  },
  {
   "cell_type": "code",
   "execution_count": 276,
   "metadata": {},
   "outputs": [],
   "source": [
    "# I also want to drop the TotalCharge column - it is a function of whether or not a person is readmitted, not the other way around.\n",
    "df.drop(['TotalCharge'], axis = 1, inplace=True)\n"
   ]
  },
  {
   "cell_type": "code",
   "execution_count": 277,
   "metadata": {},
   "outputs": [],
   "source": [
    "# I need to rename the last 8 columns - if I don't the numbers in the column names will cause an error later.\n",
    "df.rename(columns = {'Item1': 'Timely_admission', 'Item2': 'Timely_treatment', 'Item3': 'Timely_visits', 'Item4': 'Reliability',\n",
    "                     'Item5': 'Options', 'Item6': 'Hours_of_treatment', 'Item7': 'Courteous_staff', 'Item8': 'Active_listening'}, inplace=True)\n"
   ]
  },
  {
   "cell_type": "markdown",
   "metadata": {},
   "source": [
    "# Visualizations: Univariate"
   ]
  },
  {
   "cell_type": "code",
   "execution_count": 278,
   "metadata": {},
   "outputs": [
    {
     "data": {
      "image/png": "[encoded data removed]",
      "text/plain": [
       "<Figure size 432x288 with 1 Axes>"
      ]
     },
     "metadata": {
      "needs_background": "light"
     },
     "output_type": "display_data"
    }
   ],
   "source": [
    "fig, ax1 = plt.subplots()\n",
    "graph = sb.countplot(ax=ax1,x='ReAdmis', data=df)\n",
    "graph.set(xlabel=\"Readmission status\", ylabel = \"Count\")\n",
    "for p in graph.patches:\n",
    "        graph.annotate('{:.0f}'.format(p.get_height()), (p.get_x()+0.4, p.get_height()),\n",
    "                    ha='center', va='bottom')"
   ]
  },
  {
   "cell_type": "code",
   "execution_count": 279,
   "metadata": {},
   "outputs": [
    {
     "data": {
      "image/png": "[encoded data removed]",
      "text/plain": [
       "<Figure size 432x288 with 1 Axes>"
      ]
     },
     "metadata": {
      "needs_background": "light"
     },
     "output_type": "display_data"
    }
   ],
   "source": [
    "fig, ax1 = plt.subplots()\n",
    "graph = sb.countplot(ax=ax1,x='Initial_admin', data=df)\n",
    "graph.set(xlabel=\"Reason for initial admission\", ylabel = \"Count\")\n",
    "for p in graph.patches:\n",
    "        graph.annotate('{:.0f}'.format(p.get_height()), (p.get_x()+0.4, p.get_height()),\n",
    "                    ha='center', va='bottom')"
   ]
  },
  {
   "cell_type": "code",
   "execution_count": 280,
   "metadata": {},
   "outputs": [
    {
     "data": {
      "image/png": "[encoded data removed]",
      "text/plain": [
       "<Figure size 432x288 with 1 Axes>"
      ]
     },
     "metadata": {
      "needs_background": "light"
     },
     "output_type": "display_data"
    }
   ],
   "source": [
    "fig, ax1 = plt.subplots()\n",
    "graph = sb.countplot(ax=ax1,x='Complication_risk', data=df)\n",
    "graph.set(xlabel=\"Complication risk\", ylabel = \"Count\")\n",
    "for p in graph.patches:\n",
    "        graph.annotate('{:.0f}'.format(p.get_height()), (p.get_x()+0.4, p.get_height()),\n",
    "                    ha='center', va='bottom')"
   ]
  },
  {
   "cell_type": "code",
   "execution_count": 281,
   "metadata": {},
   "outputs": [
    {
     "data": {
      "image/png": "[encoded data removed]",
      "text/plain": [
       "<Figure size 432x288 with 1 Axes>"
      ]
     },
     "metadata": {
      "needs_background": "light"
     },
     "output_type": "display_data"
    }
   ],
   "source": [
    "fig, ax1 = plt.subplots()\n",
    "graph = sb.countplot(ax=ax1,x='Services', data=df)\n",
    "graph.set(xlabel=\"Services received\", ylabel = \"Count\")\n",
    "for p in graph.patches:\n",
    "        graph.annotate('{:.0f}'.format(p.get_height()), (p.get_x()+0.4, p.get_height()),\n",
    "                    ha='center', va='bottom')"
   ]
  },
  {
   "cell_type": "code",
   "execution_count": 282,
   "metadata": {},
   "outputs": [
    {
     "data": {
      "image/png": "[encoded data removed]",
      "text/plain": [
       "<Figure size 432x288 with 1 Axes>"
      ]
     },
     "metadata": {
      "needs_background": "light"
     },
     "output_type": "display_data"
    }
   ],
   "source": [
    "fig, ax1 = plt.subplots()\n",
    "graph = sb.countplot(ax=ax1,x='Area', data=df)\n",
    "graph.set(xlabel=\"Area\", ylabel = \"Count\")\n",
    "for p in graph.patches:\n",
    "        graph.annotate('{:.0f}'.format(p.get_height()), (p.get_x()+0.4, p.get_height()),\n",
    "                    ha='center', va='bottom')"
   ]
  },
  {
   "cell_type": "code",
   "execution_count": 283,
   "metadata": {},
   "outputs": [
    {
     "data": {
      "image/png": "[encoded data removed]",
      "text/plain": [
       "<Figure size 432x288 with 1 Axes>"
      ]
     },
     "metadata": {
      "needs_background": "light"
     },
     "output_type": "display_data"
    }
   ],
   "source": [
    "fig, ax1 = plt.subplots()\n",
    "graph = sb.countplot(ax=ax1,x='Marital', data=df)\n",
    "graph.set(xlabel=\"Marital status\", ylabel = \"Count\")\n",
    "for p in graph.patches:\n",
    "        graph.annotate('{:.0f}'.format(p.get_height()), (p.get_x()+0.4, p.get_height()),\n",
    "                    ha='center', va='bottom')"
   ]
  },
  {
   "cell_type": "code",
   "execution_count": 284,
   "metadata": {},
   "outputs": [
    {
     "data": {
      "image/png": "[encoded data removed]",
      "text/plain": [
       "<Figure size 432x288 with 1 Axes>"
      ]
     },
     "metadata": {
      "needs_background": "light"
     },
     "output_type": "display_data"
    }
   ],
   "source": [
    "fig, ax1 = plt.subplots()\n",
    "graph = sb.countplot(ax=ax1,x='Gender', data=df)\n",
    "graph.set(xlabel=\"Gender\", ylabel = \"Count\")\n",
    "for p in graph.patches:\n",
    "        graph.annotate('{:.0f}'.format(p.get_height()), (p.get_x()+0.4, p.get_height()),\n",
    "                    ha='center', va='bottom')"
   ]
  },
  {
   "cell_type": "code",
   "execution_count": 285,
   "metadata": {},
   "outputs": [
    {
     "data": {
      "image/png": "[encoded data removed]",
      "text/plain": [
       "<Figure size 432x288 with 12 Axes>"
      ]
     },
     "metadata": {
      "needs_background": "light"
     },
     "output_type": "display_data"
    }
   ],
   "source": [
    "df[['Lat', 'Lng', 'Population', 'Children', 'Age', 'Income', 'VitD_levels', \n",
    "    'Doc_visits', 'Full_meals_eaten', 'vitD_supp', 'Additional_charges', 'Initial_days']].hist()\n",
    "plt.tight_layout();"
   ]
  },
  {
   "cell_type": "code",
   "execution_count": 286,
   "metadata": {},
   "outputs": [
    {
     "data": {
      "image/png": "[encoded data removed]",
      "text/plain": [
       "<Figure size 432x288 with 9 Axes>"
      ]
     },
     "metadata": {
      "needs_background": "light"
     },
     "output_type": "display_data"
    }
   ],
   "source": [
    "df[['Timely_admission', 'Timely_treatment', 'Timely_visits', 'Reliability', \n",
    "    'Options', 'Hours_of_treatment', 'Courteous_staff', 'Active_listening']].hist()\n",
    "plt.tight_layout();"
   ]
  },
  {
   "cell_type": "markdown",
   "metadata": {},
   "source": [
    "# Visualizations: Bivariate"
   ]
  },
  {
   "cell_type": "code",
   "execution_count": 287,
   "metadata": {},
   "outputs": [
    {
     "data": {
      "image/png": "[encoded data removed]",
      "text/plain": [
       "<Figure size 432x288 with 1 Axes>"
      ]
     },
     "metadata": {
      "needs_background": "light"
     },
     "output_type": "display_data"
    }
   ],
   "source": [
    "plt.scatter(df['Lat'], df['Lng'], alpha=0.25)\n",
    "plt.xlabel('Latitude')\n",
    "plt.ylabel('Longitude');"
   ]
  },
  {
   "cell_type": "code",
   "execution_count": 288,
   "metadata": {},
   "outputs": [
    {
     "data": {
      "image/png": "[encoded data removed]",
      "text/plain": [
       "<Figure size 432x288 with 1 Axes>"
      ]
     },
     "metadata": {
      "needs_background": "light"
     },
     "output_type": "display_data"
    }
   ],
   "source": [
    "sb.violinplot(data = df, x = 'Additional_charges', y = 'ReAdmis');"
   ]
  },
  {
   "cell_type": "code",
   "execution_count": 289,
   "metadata": {},
   "outputs": [
    {
     "data": {
      "image/png": "[encoded data removed]",
      "text/plain": [
       "<Figure size 432x288 with 1 Axes>"
      ]
     },
     "metadata": {
      "needs_background": "light"
     },
     "output_type": "display_data"
    }
   ],
   "source": [
    "sb.violinplot(data = df, x = 'Population', y = 'ReAdmis');"
   ]
  },
  {
   "cell_type": "code",
   "execution_count": 290,
   "metadata": {},
   "outputs": [
    {
     "data": {
      "image/png": "[encoded data removed]",
      "text/plain": [
       "<Figure size 432x288 with 1 Axes>"
      ]
     },
     "metadata": {
      "needs_background": "light"
     },
     "output_type": "display_data"
    }
   ],
   "source": [
    "sb.violinplot(data = df, x = 'Age', y = 'ReAdmis');"
   ]
  },
  {
   "cell_type": "code",
   "execution_count": 291,
   "metadata": {},
   "outputs": [
    {
     "data": {
      "image/png": "[encoded data removed]",
      "text/plain": [
       "<Figure size 432x288 with 1 Axes>"
      ]
     },
     "metadata": {
      "needs_background": "light"
     },
     "output_type": "display_data"
    }
   ],
   "source": [
    "sb.violinplot(data = df, x = 'Initial_days', y = 'ReAdmis');"
   ]
  },
  {
   "cell_type": "code",
   "execution_count": 292,
   "metadata": {},
   "outputs": [
    {
     "data": {
      "image/png": "[encoded data removed]",
      "text/plain": [
       "<Figure size 432x288 with 1 Axes>"
      ]
     },
     "metadata": {
      "needs_background": "light"
     },
     "output_type": "display_data"
    }
   ],
   "source": [
    "sb.violinplot(data = df, x = 'Children', y = 'ReAdmis');"
   ]
  },
  {
   "cell_type": "code",
   "execution_count": 293,
   "metadata": {},
   "outputs": [
    {
     "data": {
      "image/png": "[encoded data removed]",
      "text/plain": [
       "<Figure size 432x288 with 1 Axes>"
      ]
     },
     "metadata": {
      "needs_background": "light"
     },
     "output_type": "display_data"
    }
   ],
   "source": [
    "sb.violinplot(data = df, x = 'VitD_levels', y = 'ReAdmis');"
   ]
  },
  {
   "cell_type": "code",
   "execution_count": 294,
   "metadata": {},
   "outputs": [
    {
     "data": {
      "image/png": "[encoded data removed]",
      "text/plain": [
       "<Figure size 432x288 with 1 Axes>"
      ]
     },
     "metadata": {
      "needs_background": "light"
     },
     "output_type": "display_data"
    }
   ],
   "source": [
    "sb.violinplot(data = df, x = 'Income', y = 'ReAdmis');"
   ]
  },
  {
   "cell_type": "code",
   "execution_count": 295,
   "metadata": {},
   "outputs": [
    {
     "data": {
      "image/png": "[encoded data removed]",
      "text/plain": [
       "<Figure size 432x288 with 1 Axes>"
      ]
     },
     "metadata": {
      "needs_background": "light"
     },
     "output_type": "display_data"
    }
   ],
   "source": [
    "sb.violinplot(data = df, x = 'Children', y = 'ReAdmis');"
   ]
  },
  {
   "cell_type": "code",
   "execution_count": 296,
   "metadata": {},
   "outputs": [
    {
     "data": {
      "image/png": "[encoded data removed]",
      "text/plain": [
       "<Figure size 720x432 with 8 Axes>"
      ]
     },
     "metadata": {
      "needs_background": "light"
     },
     "output_type": "display_data"
    }
   ],
   "source": [
    "f, axes = plt.subplots(nrows=2, ncols=4, figsize=(10,6))\n",
    "plt.tight_layout()\n",
    "ax1 = sb.boxplot(y=\"Timely_admission\", x= \"ReAdmis\", data=df, ax=axes[0, 0])\n",
    "ax2 = sb.boxplot(y=\"Timely_treatment\", x= \"ReAdmis\", data=df,  ax=axes[0, 1])\n",
    "ax3 = sb.boxplot(y=\"Timely_visits\", x= \"ReAdmis\", data=df,  ax=axes[0, 2])\n",
    "ax4 = sb.boxplot(y=\"Reliability\", x= \"ReAdmis\", data=df,  ax=axes[0, 3])\n",
    "ax5 = sb.boxplot(y=\"Options\", x= \"ReAdmis\", data=df,  ax=axes[1, 0])\n",
    "ax6 = sb.boxplot(y=\"Hours_of_treatment\", x= \"ReAdmis\", data=df,  ax=axes[1,1])\n",
    "ax7 = sb.boxplot(y=\"Courteous_staff\", x= \"ReAdmis\", data=df,  ax=axes[1,2])\n",
    "ax8 = sb.boxplot(y=\"Active_listening\", x= \"ReAdmis\", data=df,  ax=axes[1,3]);"
   ]
  },
  {
   "cell_type": "code",
   "execution_count": 297,
   "metadata": {},
   "outputs": [
    {
     "data": {
      "image/png": "[encoded data removed]",
      "text/plain": [
       "<Figure size 720x432 with 12 Axes>"
      ]
     },
     "metadata": {
      "needs_background": "light"
     },
     "output_type": "display_data"
    }
   ],
   "source": [
    "f, axes = plt.subplots(nrows=2, ncols=6, figsize=(10,6))\n",
    "plt.tight_layout()\n",
    "ax1 = sb.boxplot(y=\"Initial_days\", x= \"Soft_drink\", data=df, ax=axes[0, 0], order=(\"Yes\", \"No\"))\n",
    "ax2 = sb.boxplot(y=\"Initial_days\", x= \"HighBlood\", data=df,  ax=axes[0, 1],order=(\"Yes\", \"No\"))\n",
    "ax2.axes.get_yaxis().set_visible(False)\n",
    "ax3 = sb.boxplot(y=\"Initial_days\", x= \"Stroke\", data=df,  ax=axes[0, 2],order=(\"Yes\", \"No\"))\n",
    "ax3.axes.get_yaxis().set_visible(False)\n",
    "ax4 = sb.boxplot(y=\"Initial_days\", x= \"Overweight\", data=df,  ax=axes[0, 3],order=(\"Yes\", \"No\"))\n",
    "ax4.axes.get_yaxis().set_visible(False)\n",
    "ax5 = sb.boxplot(y=\"Initial_days\", x= \"Arthritis\", data=df,  ax=axes[0, 4], order=(\"Yes\", \"No\"))\n",
    "ax5.axes.get_yaxis().set_visible(False)\n",
    "ax6 = sb.boxplot(y=\"Initial_days\", x= \"Diabetes\", data=df,  ax=axes[0,5],order=(\"Yes\", \"No\"))\n",
    "ax6.axes.get_yaxis().set_visible(False)\n",
    "ax7 = sb.boxplot(y=\"Initial_days\", x= \"Hyperlipidemia\", data=df,  ax=axes[1,0],order=(\"Yes\", \"No\"))\n",
    "ax8 = sb.boxplot(y=\"Initial_days\", x= \"BackPain\", data=df,  ax=axes[1,1],order=(\"Yes\", \"No\"))\n",
    "ax8.axes.get_yaxis().set_visible(False)\n",
    "ax9 = sb.boxplot(y=\"Initial_days\", x= \"Anxiety\", data=df,  ax=axes[1,2],order=(\"Yes\", \"No\"))\n",
    "ax9.axes.get_yaxis().set_visible(False)\n",
    "ax10 = sb.boxplot(y=\"Initial_days\", x= \"Allergic_rhinitis\", data=df,  ax=axes[1,3],order=(\"Yes\", \"No\"))\n",
    "ax10.axes.get_yaxis().set_visible(False)\n",
    "ax11 = sb.boxplot(y=\"Initial_days\", x= \"Reflux_esophagitis\", data=df,  ax=axes[1,4],order=(\"Yes\", \"No\"))\n",
    "ax11.axes.get_yaxis().set_visible(False)\n",
    "ax12 = sb.boxplot(y=\"Initial_days\", x= \"Asthma\", data=df,  ax=axes[1,5],order=(\"Yes\", \"No\"))\n",
    "ax12.axes.get_yaxis().set_visible(False);"
   ]
  },
  {
   "cell_type": "markdown",
   "metadata": {},
   "source": [
    "# Part IV"
   ]
  },
  {
   "cell_type": "code",
   "execution_count": 298,
   "metadata": {},
   "outputs": [],
   "source": [
    "# Create dummies for categorical variables\n",
    "df_cats = df[['Area','Marital','Gender','Soft_drink', 'Initial_admin', 'HighBlood', 'Stroke', 'Overweight',\n",
    "       'Arthritis', 'Diabetes', 'Hyperlipidemia', 'Anxiety', 'Allergic_rhinitis', 'Reflux_esophagitis',\n",
    "       'Asthma', 'Services', 'Complication_risk', 'BackPain', 'ReAdmis']]\n",
    "df_dummies = pd.get_dummies(data=df_cats, drop_first=True)\n",
    "df_new = df.join(df_dummies)"
   ]
  },
  {
   "cell_type": "code",
   "execution_count": 299,
   "metadata": {},
   "outputs": [],
   "source": [
    "# Drop old categorical columns\n",
    "df_new.drop(['Area','Marital','Gender','Soft_drink', 'Initial_admin', 'HighBlood', 'Stroke', 'Overweight',\n",
    "       'Arthritis', 'Diabetes', 'Hyperlipidemia', 'Anxiety', 'Allergic_rhinitis', 'Reflux_esophagitis',\n",
    "       'Asthma', 'Services', 'Complication_risk', 'BackPain', 'ReAdmis'], axis = 1, inplace=True)"
   ]
  },
  {
   "cell_type": "code",
   "execution_count": 300,
   "metadata": {},
   "outputs": [],
   "source": [
    "# Create initial model with all existing variables\n",
    "df_new['intercept'] = 1\n",
    "df_new.columns = df_new.columns.str.replace(' ', '_')\n",
    "X = df_new[['intercept', 'Initial_days', 'Lat', 'Lng', 'Population', 'Children', 'Age', 'Income', 'Doc_visits', \n",
    "'Full_meals_eaten', 'vitD_supp', 'Timely_admission', 'VitD_levels', 'Additional_charges',\n",
    "'Timely_treatment', 'Timely_visits', 'Reliability', 'Options', 'Hours_of_treatment', \n",
    "'Courteous_staff', 'Active_listening', 'Area_Suburban', 'Area_Urban', 'Marital_Married', \n",
    "'Marital_Never_Married', 'Marital_Separated', 'Marital_Widowed', 'Gender_Male', 'Gender_Nonbinary', \n",
    "'Soft_drink_Yes', 'Initial_admin_Emergency_Admission', 'Initial_admin_Observation_Admission', \n",
    "'HighBlood_Yes', 'Stroke_Yes', 'Overweight_Yes', 'Arthritis_Yes', 'Diabetes_Yes', 'Hyperlipidemia_Yes', \n",
    "'Anxiety_Yes', 'Allergic_rhinitis_Yes', 'Reflux_esophagitis_Yes', 'Asthma_Yes', 'Services_CT_Scan', \n",
    "'Services_Intravenous', 'Services_MRI', 'Complication_risk_Low', 'Complication_risk_Medium', 'BackPain_Yes']]\n",
    "\n",
    "y = df_new['ReAdmis_Yes']"
   ]
  },
  {
   "cell_type": "code",
   "execution_count": 301,
   "metadata": {},
   "outputs": [
    {
     "name": "stdout",
     "output_type": "stream",
     "text": [
      "Optimization terminated successfully.\n",
      "         Current function value: inf\n",
      "         Iterations 14\n"
     ]
    },
    {
     "data": {
      "text/html": [
       "<table class=\"simpletable\">\n",
       "<tr>\n",
       "        <td>Model:</td>              <td>Logit</td>      <td>Pseudo R-squared:</td>   <td>inf</td> \n",
       "</tr>\n",
       "<tr>\n",
       "  <td>Dependent Variable:</td>    <td>ReAdmis_Yes</td>         <td>AIC:</td>          <td>inf</td> \n",
       "</tr>\n",
       "<tr>\n",
       "         <td>Date:</td>        <td>2021-09-22 19:55</td>       <td>BIC:</td>          <td>inf</td> \n",
       "</tr>\n",
       "<tr>\n",
       "   <td>No. Observations:</td>        <td>10000</td>       <td>Log-Likelihood:</td>   <td>-inf</td> \n",
       "</tr>\n",
       "<tr>\n",
       "       <td>Df Model:</td>             <td>47</td>            <td>LL-Null:</td>      <td>0.0000</td>\n",
       "</tr>\n",
       "<tr>\n",
       "     <td>Df Residuals:</td>          <td>9952</td>         <td>LLR p-value:</td>    <td>1.0000</td>\n",
       "</tr>\n",
       "<tr>\n",
       "      <td>Converged:</td>           <td>1.0000</td>           <td>Scale:</td>       <td>1.0000</td>\n",
       "</tr>\n",
       "<tr>\n",
       "    <td>No. Iterations:</td>        <td>14.0000</td>             <td></td>             <td></td>   \n",
       "</tr>\n",
       "</table>\n",
       "<table class=\"simpletable\">\n",
       "<tr>\n",
       "                   <td></td>                     <th>Coef.</th>  <th>Std.Err.</th>     <th>z</th>     <th>P>|z|</th>  <th>[0.025</th>   <th>0.975]</th> \n",
       "</tr>\n",
       "<tr>\n",
       "  <th>intercept</th>                           <td>-85.5937</td>  <td>5.1785</td>  <td>-16.5287</td> <td>0.0000</td> <td>-95.7433</td> <td>-75.4441</td>\n",
       "</tr>\n",
       "<tr>\n",
       "  <th>Initial_days</th>                         <td>1.5392</td>   <td>0.0891</td>   <td>17.2792</td> <td>0.0000</td>  <td>1.3646</td>   <td>1.7138</td> \n",
       "</tr>\n",
       "<tr>\n",
       "  <th>Lat</th>                                  <td>0.0405</td>   <td>0.0199</td>   <td>2.0386</td>  <td>0.0415</td>  <td>0.0016</td>   <td>0.0794</td> \n",
       "</tr>\n",
       "<tr>\n",
       "  <th>Lng</th>                                  <td>0.0089</td>   <td>0.0069</td>   <td>1.2848</td>  <td>0.1989</td>  <td>-0.0047</td>  <td>0.0225</td> \n",
       "</tr>\n",
       "<tr>\n",
       "  <th>Population</th>                           <td>0.0000</td>   <td>0.0000</td>   <td>0.9183</td>  <td>0.3584</td>  <td>-0.0000</td>  <td>0.0000</td> \n",
       "</tr>\n",
       "<tr>\n",
       "  <th>Children</th>                             <td>0.0917</td>   <td>0.0476</td>   <td>1.9292</td>  <td>0.0537</td>  <td>-0.0015</td>  <td>0.1850</td> \n",
       "</tr>\n",
       "<tr>\n",
       "  <th>Age</th>                                  <td>-0.0044</td>  <td>0.0153</td>   <td>-0.2875</td> <td>0.7737</td>  <td>-0.0344</td>  <td>0.0256</td> \n",
       "</tr>\n",
       "<tr>\n",
       "  <th>Income</th>                               <td>0.0000</td>   <td>0.0000</td>   <td>0.4294</td>  <td>0.6676</td>  <td>-0.0000</td>  <td>0.0000</td> \n",
       "</tr>\n",
       "<tr>\n",
       "  <th>Doc_visits</th>                           <td>0.0126</td>   <td>0.1016</td>   <td>0.1239</td>  <td>0.9014</td>  <td>-0.1866</td>  <td>0.2118</td> \n",
       "</tr>\n",
       "<tr>\n",
       "  <th>Full_meals_eaten</th>                     <td>0.0339</td>   <td>0.1067</td>   <td>0.3178</td>  <td>0.7506</td>  <td>-0.1753</td>  <td>0.2431</td> \n",
       "</tr>\n",
       "<tr>\n",
       "  <th>vitD_supp</th>                            <td>-0.0985</td>  <td>0.1695</td>   <td>-0.5813</td> <td>0.5610</td>  <td>-0.4306</td>  <td>0.2336</td> \n",
       "</tr>\n",
       "<tr>\n",
       "  <th>Timely_admission</th>                     <td>-0.0155</td>  <td>0.1568</td>   <td>-0.0987</td> <td>0.9214</td>  <td>-0.3229</td>  <td>0.2919</td> \n",
       "</tr>\n",
       "<tr>\n",
       "  <th>VitD_levels</th>                          <td>0.0313</td>   <td>0.0503</td>   <td>0.6218</td>  <td>0.5341</td>  <td>-0.0674</td>  <td>0.1300</td> \n",
       "</tr>\n",
       "<tr>\n",
       "  <th>Additional_charges</th>                   <td>0.0000</td>   <td>0.0001</td>   <td>0.4867</td>  <td>0.6265</td>  <td>-0.0001</td>  <td>0.0002</td> \n",
       "</tr>\n",
       "<tr>\n",
       "  <th>Timely_treatment</th>                     <td>0.2697</td>   <td>0.1407</td>   <td>1.9170</td>  <td>0.0552</td>  <td>-0.0060</td>  <td>0.5455</td> \n",
       "</tr>\n",
       "<tr>\n",
       "  <th>Timely_visits</th>                        <td>-0.1553</td>  <td>0.1308</td>   <td>-1.1873</td> <td>0.2351</td>  <td>-0.4116</td>  <td>0.1011</td> \n",
       "</tr>\n",
       "<tr>\n",
       "  <th>Reliability</th>                          <td>0.0529</td>   <td>0.1159</td>   <td>0.4564</td>  <td>0.6481</td>  <td>-0.1743</td>  <td>0.2801</td> \n",
       "</tr>\n",
       "<tr>\n",
       "  <th>Options</th>                              <td>-0.1545</td>  <td>0.1205</td>   <td>-1.2819</td> <td>0.1999</td>  <td>-0.3908</td>  <td>0.0817</td> \n",
       "</tr>\n",
       "<tr>\n",
       "  <th>Hours_of_treatment</th>                   <td>-0.0687</td>  <td>0.1283</td>   <td>-0.5354</td> <td>0.5923</td>  <td>-0.3200</td>  <td>0.1827</td> \n",
       "</tr>\n",
       "<tr>\n",
       "  <th>Courteous_staff</th>                      <td>0.1279</td>   <td>0.1166</td>   <td>1.0967</td>  <td>0.2728</td>  <td>-0.1007</td>  <td>0.3566</td> \n",
       "</tr>\n",
       "<tr>\n",
       "  <th>Active_listening</th>                     <td>-0.2143</td>  <td>0.1099</td>   <td>-1.9494</td> <td>0.0513</td>  <td>-0.4298</td>  <td>0.0012</td> \n",
       "</tr>\n",
       "<tr>\n",
       "  <th>Area_Suburban</th>                        <td>0.0525</td>   <td>0.2580</td>   <td>0.2034</td>  <td>0.8389</td>  <td>-0.4532</td>  <td>0.5581</td> \n",
       "</tr>\n",
       "<tr>\n",
       "  <th>Area_Urban</th>                           <td>0.0818</td>   <td>0.2658</td>   <td>0.3077</td>  <td>0.7583</td>  <td>-0.4392</td>  <td>0.6028</td> \n",
       "</tr>\n",
       "<tr>\n",
       "  <th>Marital_Married</th>                      <td>0.1327</td>   <td>0.3425</td>   <td>0.3875</td>  <td>0.6984</td>  <td>-0.5386</td>  <td>0.8041</td> \n",
       "</tr>\n",
       "<tr>\n",
       "  <th>Marital_Never_Married</th>                <td>0.2749</td>   <td>0.3500</td>   <td>0.7854</td>  <td>0.4322</td>  <td>-0.4111</td>  <td>0.9610</td> \n",
       "</tr>\n",
       "<tr>\n",
       "  <th>Marital_Separated</th>                    <td>-0.0991</td>  <td>0.3526</td>   <td>-0.2810</td> <td>0.7787</td>  <td>-0.7901</td>  <td>0.5919</td> \n",
       "</tr>\n",
       "<tr>\n",
       "  <th>Marital_Widowed</th>                      <td>0.0952</td>   <td>0.3449</td>   <td>0.2759</td>  <td>0.7826</td>  <td>-0.5809</td>  <td>0.7712</td> \n",
       "</tr>\n",
       "<tr>\n",
       "  <th>Gender_Male</th>                          <td>0.1766</td>   <td>0.2142</td>   <td>0.8244</td>  <td>0.4097</td>  <td>-0.2432</td>  <td>0.5964</td> \n",
       "</tr>\n",
       "<tr>\n",
       "  <th>Gender_Nonbinary</th>                     <td>0.2004</td>   <td>0.7361</td>   <td>0.2722</td>  <td>0.7855</td>  <td>-1.2425</td>  <td>1.6432</td> \n",
       "</tr>\n",
       "<tr>\n",
       "  <th>Soft_drink_Yes</th>                       <td>0.2667</td>   <td>0.2486</td>   <td>1.0731</td>  <td>0.2832</td>  <td>-0.2205</td>  <td>0.7539</td> \n",
       "</tr>\n",
       "<tr>\n",
       "  <th>Initial_admin_Emergency_Admission</th>    <td>2.6205</td>   <td>0.2987</td>   <td>8.7721</td>  <td>0.0000</td>  <td>2.0350</td>   <td>3.2061</td> \n",
       "</tr>\n",
       "<tr>\n",
       "  <th>Initial_admin_Observation_Admission</th>  <td>0.8808</td>   <td>0.2927</td>   <td>3.0093</td>  <td>0.0026</td>  <td>0.3072</td>   <td>1.4545</td> \n",
       "</tr>\n",
       "<tr>\n",
       "  <th>HighBlood_Yes</th>                        <td>0.5593</td>   <td>0.5992</td>   <td>0.9335</td>  <td>0.3506</td>  <td>-0.6151</td>  <td>1.7337</td> \n",
       "</tr>\n",
       "<tr>\n",
       "  <th>Stroke_Yes</th>                           <td>1.7501</td>   <td>0.2809</td>   <td>6.2297</td>  <td>0.0000</td>  <td>1.1995</td>   <td>2.3008</td> \n",
       "</tr>\n",
       "<tr>\n",
       "  <th>Overweight_Yes</th>                       <td>-0.2793</td>  <td>0.2354</td>   <td>-1.1869</td> <td>0.2353</td>  <td>-0.7407</td>  <td>0.1820</td> \n",
       "</tr>\n",
       "<tr>\n",
       "  <th>Arthritis_Yes</th>                        <td>-1.4067</td>  <td>0.2346</td>   <td>-5.9961</td> <td>0.0000</td>  <td>-1.8665</td>  <td>-0.9469</td>\n",
       "</tr>\n",
       "<tr>\n",
       "  <th>Diabetes_Yes</th>                         <td>0.5100</td>   <td>0.2387</td>   <td>2.1366</td>  <td>0.0326</td>  <td>0.0421</td>   <td>0.9778</td> \n",
       "</tr>\n",
       "<tr>\n",
       "  <th>Hyperlipidemia_Yes</th>                   <td>0.2919</td>   <td>0.2210</td>   <td>1.3212</td>  <td>0.1864</td>  <td>-0.1412</td>  <td>0.7250</td> \n",
       "</tr>\n",
       "<tr>\n",
       "  <th>Anxiety_Yes</th>                          <td>-1.0589</td>  <td>0.2324</td>   <td>-4.5556</td> <td>0.0000</td>  <td>-1.5145</td>  <td>-0.6033</td>\n",
       "</tr>\n",
       "<tr>\n",
       "  <th>Allergic_rhinitis_Yes</th>                <td>-0.4201</td>  <td>0.2174</td>   <td>-1.9321</td> <td>0.0533</td>  <td>-0.8462</td>  <td>0.0061</td> \n",
       "</tr>\n",
       "<tr>\n",
       "  <th>Reflux_esophagitis_Yes</th>               <td>-0.3484</td>  <td>0.2192</td>   <td>-1.5894</td> <td>0.1120</td>  <td>-0.7781</td>  <td>0.0812</td> \n",
       "</tr>\n",
       "<tr>\n",
       "  <th>Asthma_Yes</th>                           <td>-1.4374</td>  <td>0.2437</td>   <td>-5.8991</td> <td>0.0000</td>  <td>-1.9150</td>  <td>-0.9598</td>\n",
       "</tr>\n",
       "<tr>\n",
       "  <th>Services_CT_Scan</th>                     <td>1.5669</td>   <td>0.3751</td>   <td>4.1772</td>  <td>0.0000</td>  <td>0.8317</td>   <td>2.3021</td> \n",
       "</tr>\n",
       "<tr>\n",
       "  <th>Services_Intravenous</th>                 <td>-0.0223</td>  <td>0.2372</td>   <td>-0.0940</td> <td>0.9251</td>  <td>-0.4871</td>  <td>0.4426</td> \n",
       "</tr>\n",
       "<tr>\n",
       "  <th>Services_MRI</th>                         <td>2.7175</td>   <td>0.5131</td>   <td>5.2967</td>  <td>0.0000</td>  <td>1.7119</td>   <td>3.7231</td> \n",
       "</tr>\n",
       "<tr>\n",
       "  <th>Complication_risk_Low</th>                <td>-1.9305</td>  <td>0.3070</td>   <td>-6.2886</td> <td>0.0000</td>  <td>-2.5322</td>  <td>-1.3288</td>\n",
       "</tr>\n",
       "<tr>\n",
       "  <th>Complication_risk_Medium</th>             <td>-0.3527</td>  <td>0.2441</td>   <td>-1.4448</td> <td>0.1485</td>  <td>-0.8311</td>  <td>0.1257</td> \n",
       "</tr>\n",
       "<tr>\n",
       "  <th>BackPain_Yes</th>                         <td>0.2664</td>   <td>0.2140</td>   <td>1.2447</td>  <td>0.2132</td>  <td>-0.1531</td>  <td>0.6858</td> \n",
       "</tr>\n",
       "</table>"
      ],
      "text/plain": [
       "<class 'statsmodels.iolib.summary2.Summary'>\n",
       "\"\"\"\n",
       "                                    Results: Logit\n",
       "=======================================================================================\n",
       "Model:                        Logit                    Pseudo R-squared:         inf   \n",
       "Dependent Variable:           ReAdmis_Yes              AIC:                      inf   \n",
       "Date:                         2021-09-22 19:55         BIC:                      inf   \n",
       "No. Observations:             10000                    Log-Likelihood:           -inf  \n",
       "Df Model:                     47                       LL-Null:                  0.0000\n",
       "Df Residuals:                 9952                     LLR p-value:              1.0000\n",
       "Converged:                    1.0000                   Scale:                    1.0000\n",
       "No. Iterations:               14.0000                                                  \n",
       "---------------------------------------------------------------------------------------\n",
       "                                     Coef.   Std.Err.    z     P>|z|   [0.025   0.975] \n",
       "---------------------------------------------------------------------------------------\n",
       "intercept                           -85.5937   5.1785 -16.5287 0.0000 -95.7433 -75.4441\n",
       "Initial_days                          1.5392   0.0891  17.2792 0.0000   1.3646   1.7138\n",
       "Lat                                   0.0405   0.0199   2.0386 0.0415   0.0016   0.0794\n",
       "Lng                                   0.0089   0.0069   1.2848 0.1989  -0.0047   0.0225\n",
       "Population                            0.0000   0.0000   0.9183 0.3584  -0.0000   0.0000\n",
       "Children                              0.0917   0.0476   1.9292 0.0537  -0.0015   0.1850\n",
       "Age                                  -0.0044   0.0153  -0.2875 0.7737  -0.0344   0.0256\n",
       "Income                                0.0000   0.0000   0.4294 0.6676  -0.0000   0.0000\n",
       "Doc_visits                            0.0126   0.1016   0.1239 0.9014  -0.1866   0.2118\n",
       "Full_meals_eaten                      0.0339   0.1067   0.3178 0.7506  -0.1753   0.2431\n",
       "vitD_supp                            -0.0985   0.1695  -0.5813 0.5610  -0.4306   0.2336\n",
       "Timely_admission                     -0.0155   0.1568  -0.0987 0.9214  -0.3229   0.2919\n",
       "VitD_levels                           0.0313   0.0503   0.6218 0.5341  -0.0674   0.1300\n",
       "Additional_charges                    0.0000   0.0001   0.4867 0.6265  -0.0001   0.0002\n",
       "Timely_treatment                      0.2697   0.1407   1.9170 0.0552  -0.0060   0.5455\n",
       "Timely_visits                        -0.1553   0.1308  -1.1873 0.2351  -0.4116   0.1011\n",
       "Reliability                           0.0529   0.1159   0.4564 0.6481  -0.1743   0.2801\n",
       "Options                              -0.1545   0.1205  -1.2819 0.1999  -0.3908   0.0817\n",
       "Hours_of_treatment                   -0.0687   0.1283  -0.5354 0.5923  -0.3200   0.1827\n",
       "Courteous_staff                       0.1279   0.1166   1.0967 0.2728  -0.1007   0.3566\n",
       "Active_listening                     -0.2143   0.1099  -1.9494 0.0513  -0.4298   0.0012\n",
       "Area_Suburban                         0.0525   0.2580   0.2034 0.8389  -0.4532   0.5581\n",
       "Area_Urban                            0.0818   0.2658   0.3077 0.7583  -0.4392   0.6028\n",
       "Marital_Married                       0.1327   0.3425   0.3875 0.6984  -0.5386   0.8041\n",
       "Marital_Never_Married                 0.2749   0.3500   0.7854 0.4322  -0.4111   0.9610\n",
       "Marital_Separated                    -0.0991   0.3526  -0.2810 0.7787  -0.7901   0.5919\n",
       "Marital_Widowed                       0.0952   0.3449   0.2759 0.7826  -0.5809   0.7712\n",
       "Gender_Male                           0.1766   0.2142   0.8244 0.4097  -0.2432   0.5964\n",
       "Gender_Nonbinary                      0.2004   0.7361   0.2722 0.7855  -1.2425   1.6432\n",
       "Soft_drink_Yes                        0.2667   0.2486   1.0731 0.2832  -0.2205   0.7539\n",
       "Initial_admin_Emergency_Admission     2.6205   0.2987   8.7721 0.0000   2.0350   3.2061\n",
       "Initial_admin_Observation_Admission   0.8808   0.2927   3.0093 0.0026   0.3072   1.4545\n",
       "HighBlood_Yes                         0.5593   0.5992   0.9335 0.3506  -0.6151   1.7337\n",
       "Stroke_Yes                            1.7501   0.2809   6.2297 0.0000   1.1995   2.3008\n",
       "Overweight_Yes                       -0.2793   0.2354  -1.1869 0.2353  -0.7407   0.1820\n",
       "Arthritis_Yes                        -1.4067   0.2346  -5.9961 0.0000  -1.8665  -0.9469\n",
       "Diabetes_Yes                          0.5100   0.2387   2.1366 0.0326   0.0421   0.9778\n",
       "Hyperlipidemia_Yes                    0.2919   0.2210   1.3212 0.1864  -0.1412   0.7250\n",
       "Anxiety_Yes                          -1.0589   0.2324  -4.5556 0.0000  -1.5145  -0.6033\n",
       "Allergic_rhinitis_Yes                -0.4201   0.2174  -1.9321 0.0533  -0.8462   0.0061\n",
       "Reflux_esophagitis_Yes               -0.3484   0.2192  -1.5894 0.1120  -0.7781   0.0812\n",
       "Asthma_Yes                           -1.4374   0.2437  -5.8991 0.0000  -1.9150  -0.9598\n",
       "Services_CT_Scan                      1.5669   0.3751   4.1772 0.0000   0.8317   2.3021\n",
       "Services_Intravenous                 -0.0223   0.2372  -0.0940 0.9251  -0.4871   0.4426\n",
       "Services_MRI                          2.7175   0.5131   5.2967 0.0000   1.7119   3.7231\n",
       "Complication_risk_Low                -1.9305   0.3070  -6.2886 0.0000  -2.5322  -1.3288\n",
       "Complication_risk_Medium             -0.3527   0.2441  -1.4448 0.1485  -0.8311   0.1257\n",
       "BackPain_Yes                          0.2664   0.2140   1.2447 0.2132  -0.1531   0.6858\n",
       "=======================================================================================\n",
       "\n",
       "\"\"\""
      ]
     },
     "execution_count": 301,
     "metadata": {},
     "output_type": "execute_result"
    }
   ],
   "source": [
    "logit_mod = sm.Logit(y, X)\n",
    "results = logit_mod.fit()\n",
    "results.summary2()"
   ]
  },
  {
   "cell_type": "code",
   "execution_count": 302,
   "metadata": {},
   "outputs": [],
   "source": [
    "# And let's check the variance inflation factors (VIF's) - we'll remove any variables with VIF's greater than 10.\n",
    "y, X = dmatrices('ReAdmis_Yes ~ Initial_days + Lat + Lng + Population + Children + Age + Income + VitD_levels + Doc_visits + Full_meals_eaten + vitD_supp + Additional_charges + Timely_admission + Timely_treatment + Timely_visits + Reliability + Options + Hours_of_treatment + Courteous_staff + Active_listening + Area_Suburban + Area_Urban + Marital_Married + Marital_Never_Married + Marital_Separated + Marital_Widowed + Gender_Male + Gender_Nonbinary + Soft_drink_Yes + Initial_admin_Emergency_Admission + Initial_admin_Observation_Admission + HighBlood_Yes + Stroke_Yes + Overweight_Yes + Arthritis_Yes + Diabetes_Yes + Hyperlipidemia_Yes + Anxiety_Yes + Allergic_rhinitis_Yes + Reflux_esophagitis_Yes + Asthma_Yes + Services_CT_Scan + Services_Intravenous + Services_MRI + Complication_risk_Low + Complication_risk_Medium + BackPain_Yes', df_new, return_type='dataframe')\n",
    "\n",
    "vif = pd.DataFrame()\n",
    "vif[\"VIF Factor\"] = [variance_inflation_factor(X.values, i) for i in range(X.shape[1])]\n",
    "vif[\"variables\"] = X.columns"
   ]
  },
  {
   "cell_type": "code",
   "execution_count": 303,
   "metadata": {},
   "outputs": [
    {
     "data": {
      "text/html": [
       "<div>\n",
       "<style scoped>\n",
       "    .dataframe tbody tr th:only-of-type {\n",
       "        vertical-align: middle;\n",
       "    }\n",
       "\n",
       "    .dataframe tbody tr th {\n",
       "        vertical-align: top;\n",
       "    }\n",
       "\n",
       "    .dataframe thead th {\n",
       "        text-align: right;\n",
       "    }\n",
       "</style>\n",
       "<table border=\"1\" class=\"dataframe\">\n",
       "  <thead>\n",
       "    <tr style=\"text-align: right;\">\n",
       "      <th></th>\n",
       "      <th>VIF Factor</th>\n",
       "      <th>variables</th>\n",
       "    </tr>\n",
       "  </thead>\n",
       "  <tbody>\n",
       "    <tr>\n",
       "      <th>0</th>\n",
       "      <td>299.138999</td>\n",
       "      <td>Intercept</td>\n",
       "    </tr>\n",
       "    <tr>\n",
       "      <th>1</th>\n",
       "      <td>1.005933</td>\n",
       "      <td>Initial_days</td>\n",
       "    </tr>\n",
       "    <tr>\n",
       "      <th>2</th>\n",
       "      <td>1.065386</td>\n",
       "      <td>Lat</td>\n",
       "    </tr>\n",
       "    <tr>\n",
       "      <th>3</th>\n",
       "      <td>1.019735</td>\n",
       "      <td>Lng</td>\n",
       "    </tr>\n",
       "    <tr>\n",
       "      <th>4</th>\n",
       "      <td>1.053893</td>\n",
       "      <td>Population</td>\n",
       "    </tr>\n",
       "    <tr>\n",
       "      <th>5</th>\n",
       "      <td>1.005036</td>\n",
       "      <td>Children</td>\n",
       "    </tr>\n",
       "    <tr>\n",
       "      <th>6</th>\n",
       "      <td>9.287632</td>\n",
       "      <td>Age</td>\n",
       "    </tr>\n",
       "    <tr>\n",
       "      <th>7</th>\n",
       "      <td>1.004456</td>\n",
       "      <td>Income</td>\n",
       "    </tr>\n",
       "    <tr>\n",
       "      <th>8</th>\n",
       "      <td>1.006898</td>\n",
       "      <td>VitD_levels</td>\n",
       "    </tr>\n",
       "    <tr>\n",
       "      <th>9</th>\n",
       "      <td>1.004638</td>\n",
       "      <td>Doc_visits</td>\n",
       "    </tr>\n",
       "    <tr>\n",
       "      <th>10</th>\n",
       "      <td>1.006293</td>\n",
       "      <td>Full_meals_eaten</td>\n",
       "    </tr>\n",
       "    <tr>\n",
       "      <th>11</th>\n",
       "      <td>1.004395</td>\n",
       "      <td>vitD_supp</td>\n",
       "    </tr>\n",
       "    <tr>\n",
       "      <th>12</th>\n",
       "      <td>16.326862</td>\n",
       "      <td>Additional_charges</td>\n",
       "    </tr>\n",
       "    <tr>\n",
       "      <th>13</th>\n",
       "      <td>2.215393</td>\n",
       "      <td>Timely_admission</td>\n",
       "    </tr>\n",
       "    <tr>\n",
       "      <th>14</th>\n",
       "      <td>1.896167</td>\n",
       "      <td>Timely_treatment</td>\n",
       "    </tr>\n",
       "    <tr>\n",
       "      <th>15</th>\n",
       "      <td>1.610360</td>\n",
       "      <td>Timely_visits</td>\n",
       "    </tr>\n",
       "    <tr>\n",
       "      <th>16</th>\n",
       "      <td>1.285819</td>\n",
       "      <td>Reliability</td>\n",
       "    </tr>\n",
       "    <tr>\n",
       "      <th>17</th>\n",
       "      <td>1.410994</td>\n",
       "      <td>Options</td>\n",
       "    </tr>\n",
       "    <tr>\n",
       "      <th>18</th>\n",
       "      <td>1.508665</td>\n",
       "      <td>Hours_of_treatment</td>\n",
       "    </tr>\n",
       "    <tr>\n",
       "      <th>19</th>\n",
       "      <td>1.310205</td>\n",
       "      <td>Courteous_staff</td>\n",
       "    </tr>\n",
       "    <tr>\n",
       "      <th>20</th>\n",
       "      <td>1.209304</td>\n",
       "      <td>Active_listening</td>\n",
       "    </tr>\n",
       "    <tr>\n",
       "      <th>21</th>\n",
       "      <td>1.331452</td>\n",
       "      <td>Area_Suburban</td>\n",
       "    </tr>\n",
       "    <tr>\n",
       "      <th>22</th>\n",
       "      <td>1.334726</td>\n",
       "      <td>Area_Urban</td>\n",
       "    </tr>\n",
       "    <tr>\n",
       "      <th>23</th>\n",
       "      <td>1.629581</td>\n",
       "      <td>Marital_Married</td>\n",
       "    </tr>\n",
       "    <tr>\n",
       "      <th>24</th>\n",
       "      <td>1.620509</td>\n",
       "      <td>Marital_Never_Married</td>\n",
       "    </tr>\n",
       "    <tr>\n",
       "      <th>25</th>\n",
       "      <td>1.618834</td>\n",
       "      <td>Marital_Separated</td>\n",
       "    </tr>\n",
       "    <tr>\n",
       "      <th>26</th>\n",
       "      <td>1.633003</td>\n",
       "      <td>Marital_Widowed</td>\n",
       "    </tr>\n",
       "    <tr>\n",
       "      <th>27</th>\n",
       "      <td>1.027406</td>\n",
       "      <td>Gender_Male</td>\n",
       "    </tr>\n",
       "    <tr>\n",
       "      <th>28</th>\n",
       "      <td>1.024425</td>\n",
       "      <td>Gender_Nonbinary</td>\n",
       "    </tr>\n",
       "    <tr>\n",
       "      <th>29</th>\n",
       "      <td>1.004875</td>\n",
       "      <td>Soft_drink_Yes</td>\n",
       "    </tr>\n",
       "    <tr>\n",
       "      <th>30</th>\n",
       "      <td>1.520269</td>\n",
       "      <td>Initial_admin_Emergency_Admission</td>\n",
       "    </tr>\n",
       "    <tr>\n",
       "      <th>31</th>\n",
       "      <td>1.502644</td>\n",
       "      <td>Initial_admin_Observation_Admission</td>\n",
       "    </tr>\n",
       "    <tr>\n",
       "      <th>32</th>\n",
       "      <td>7.873873</td>\n",
       "      <td>HighBlood_Yes</td>\n",
       "    </tr>\n",
       "    <tr>\n",
       "      <th>33</th>\n",
       "      <td>1.010605</td>\n",
       "      <td>Stroke_Yes</td>\n",
       "    </tr>\n",
       "    <tr>\n",
       "      <th>34</th>\n",
       "      <td>1.004048</td>\n",
       "      <td>Overweight_Yes</td>\n",
       "    </tr>\n",
       "    <tr>\n",
       "      <th>35</th>\n",
       "      <td>1.005696</td>\n",
       "      <td>Arthritis_Yes</td>\n",
       "    </tr>\n",
       "    <tr>\n",
       "      <th>36</th>\n",
       "      <td>1.006587</td>\n",
       "      <td>Diabetes_Yes</td>\n",
       "    </tr>\n",
       "    <tr>\n",
       "      <th>37</th>\n",
       "      <td>1.005577</td>\n",
       "      <td>Hyperlipidemia_Yes</td>\n",
       "    </tr>\n",
       "    <tr>\n",
       "      <th>38</th>\n",
       "      <td>1.004156</td>\n",
       "      <td>Anxiety_Yes</td>\n",
       "    </tr>\n",
       "    <tr>\n",
       "      <th>39</th>\n",
       "      <td>1.004741</td>\n",
       "      <td>Allergic_rhinitis_Yes</td>\n",
       "    </tr>\n",
       "    <tr>\n",
       "      <th>40</th>\n",
       "      <td>1.005487</td>\n",
       "      <td>Reflux_esophagitis_Yes</td>\n",
       "    </tr>\n",
       "    <tr>\n",
       "      <th>41</th>\n",
       "      <td>1.004721</td>\n",
       "      <td>Asthma_Yes</td>\n",
       "    </tr>\n",
       "    <tr>\n",
       "      <th>42</th>\n",
       "      <td>1.086279</td>\n",
       "      <td>Services_CT_Scan</td>\n",
       "    </tr>\n",
       "    <tr>\n",
       "      <th>43</th>\n",
       "      <td>1.100385</td>\n",
       "      <td>Services_Intravenous</td>\n",
       "    </tr>\n",
       "    <tr>\n",
       "      <th>44</th>\n",
       "      <td>1.035620</td>\n",
       "      <td>Services_MRI</td>\n",
       "    </tr>\n",
       "    <tr>\n",
       "      <th>45</th>\n",
       "      <td>1.308527</td>\n",
       "      <td>Complication_risk_Low</td>\n",
       "    </tr>\n",
       "    <tr>\n",
       "      <th>46</th>\n",
       "      <td>1.305894</td>\n",
       "      <td>Complication_risk_Medium</td>\n",
       "    </tr>\n",
       "    <tr>\n",
       "      <th>47</th>\n",
       "      <td>1.007241</td>\n",
       "      <td>BackPain_Yes</td>\n",
       "    </tr>\n",
       "  </tbody>\n",
       "</table>\n",
       "</div>"
      ],
      "text/plain": [
       "    VIF Factor                            variables\n",
       "0   299.138999                            Intercept\n",
       "1     1.005933                         Initial_days\n",
       "2     1.065386                                  Lat\n",
       "3     1.019735                                  Lng\n",
       "4     1.053893                           Population\n",
       "5     1.005036                             Children\n",
       "6     9.287632                                  Age\n",
       "7     1.004456                               Income\n",
       "8     1.006898                          VitD_levels\n",
       "9     1.004638                           Doc_visits\n",
       "10    1.006293                     Full_meals_eaten\n",
       "11    1.004395                            vitD_supp\n",
       "12   16.326862                   Additional_charges\n",
       "13    2.215393                     Timely_admission\n",
       "14    1.896167                     Timely_treatment\n",
       "15    1.610360                        Timely_visits\n",
       "16    1.285819                          Reliability\n",
       "17    1.410994                              Options\n",
       "18    1.508665                   Hours_of_treatment\n",
       "19    1.310205                      Courteous_staff\n",
       "20    1.209304                     Active_listening\n",
       "21    1.331452                        Area_Suburban\n",
       "22    1.334726                           Area_Urban\n",
       "23    1.629581                      Marital_Married\n",
       "24    1.620509                Marital_Never_Married\n",
       "25    1.618834                    Marital_Separated\n",
       "26    1.633003                      Marital_Widowed\n",
       "27    1.027406                          Gender_Male\n",
       "28    1.024425                     Gender_Nonbinary\n",
       "29    1.004875                       Soft_drink_Yes\n",
       "30    1.520269    Initial_admin_Emergency_Admission\n",
       "31    1.502644  Initial_admin_Observation_Admission\n",
       "32    7.873873                        HighBlood_Yes\n",
       "33    1.010605                           Stroke_Yes\n",
       "34    1.004048                       Overweight_Yes\n",
       "35    1.005696                        Arthritis_Yes\n",
       "36    1.006587                         Diabetes_Yes\n",
       "37    1.005577                   Hyperlipidemia_Yes\n",
       "38    1.004156                          Anxiety_Yes\n",
       "39    1.004741                Allergic_rhinitis_Yes\n",
       "40    1.005487               Reflux_esophagitis_Yes\n",
       "41    1.004721                           Asthma_Yes\n",
       "42    1.086279                     Services_CT_Scan\n",
       "43    1.100385                 Services_Intravenous\n",
       "44    1.035620                         Services_MRI\n",
       "45    1.308527                Complication_risk_Low\n",
       "46    1.305894             Complication_risk_Medium\n",
       "47    1.007241                         BackPain_Yes"
      ]
     },
     "execution_count": 303,
     "metadata": {},
     "output_type": "execute_result"
    }
   ],
   "source": [
    "vif"
   ]
  },
  {
   "cell_type": "code",
   "execution_count": 304,
   "metadata": {},
   "outputs": [],
   "source": [
    "# Two variables have VIF's above 10: Intercept (which we will leave in) and Additional_charges, which will get removed anyway because of it's high p-value."
   ]
  },
  {
   "cell_type": "code",
   "execution_count": 305,
   "metadata": {},
   "outputs": [],
   "source": [
    "# Drop variables with p-values below 0.05.\n",
    "X.drop(['Additional_charges', 'Children', 'Lng', 'Population', 'Age', 'Income', 'Doc_visits', 'Full_meals_eaten', 'vitD_supp', 'VitD_levels', \n",
    "         'Timely_treatment', 'Timely_visits', 'Reliability', 'Options', 'Hours_of_treatment', 'Marital_Widowed',\n",
    "        'Courteous_staff', 'Active_listening', 'Area_Suburban', 'Area_Urban', 'Marital_Married', 'Gender_Male',\n",
    "            'Gender_Nonbinary', 'Soft_drink_Yes', 'Timely_admission', 'Marital_Never_Married', 'Marital_Separated',\n",
    "            'HighBlood_Yes', 'Overweight_Yes', 'Hyperlipidemia_Yes',\n",
    "            'Allergic_rhinitis_Yes', 'Reflux_esophagitis_Yes', 'Services_Intravenous',\n",
    "            'Complication_risk_Medium', 'BackPain_Yes'], axis = 1, inplace=True)\n",
    "\n"
   ]
  },
  {
   "cell_type": "code",
   "execution_count": 306,
   "metadata": {},
   "outputs": [
    {
     "name": "stdout",
     "output_type": "stream",
     "text": [
      "Optimization terminated successfully.\n",
      "         Current function value: 0.034906\n",
      "         Iterations 14\n"
     ]
    },
    {
     "data": {
      "text/html": [
       "<table class=\"simpletable\">\n",
       "<tr>\n",
       "        <td>Model:</td>              <td>Logit</td>      <td>Pseudo R-squared:</td>   <td>0.947</td> \n",
       "</tr>\n",
       "<tr>\n",
       "  <td>Dependent Variable:</td>    <td>ReAdmis_Yes</td>         <td>AIC:</td>        <td>724.1220</td>\n",
       "</tr>\n",
       "<tr>\n",
       "         <td>Date:</td>        <td>2021-09-22 19:55</td>       <td>BIC:</td>        <td>817.8564</td>\n",
       "</tr>\n",
       "<tr>\n",
       "   <td>No. Observations:</td>        <td>10000</td>       <td>Log-Likelihood:</td>   <td>-349.06</td>\n",
       "</tr>\n",
       "<tr>\n",
       "       <td>Df Model:</td>             <td>12</td>            <td>LL-Null:</td>       <td>-6572.9</td>\n",
       "</tr>\n",
       "<tr>\n",
       "     <td>Df Residuals:</td>          <td>9987</td>         <td>LLR p-value:</td>     <td>0.0000</td> \n",
       "</tr>\n",
       "<tr>\n",
       "      <td>Converged:</td>           <td>1.0000</td>           <td>Scale:</td>        <td>1.0000</td> \n",
       "</tr>\n",
       "<tr>\n",
       "    <td>No. Iterations:</td>        <td>14.0000</td>             <td></td>              <td></td>    \n",
       "</tr>\n",
       "</table>\n",
       "<table class=\"simpletable\">\n",
       "<tr>\n",
       "                   <td></td>                     <th>Coef.</th>  <th>Std.Err.</th>     <th>z</th>     <th>P>|z|</th>  <th>[0.025</th>   <th>0.975]</th> \n",
       "</tr>\n",
       "<tr>\n",
       "  <th>Intercept</th>                           <td>-77.8966</td>  <td>4.2903</td>  <td>-18.1565</td> <td>0.0000</td> <td>-86.3054</td> <td>-69.4878</td>\n",
       "</tr>\n",
       "<tr>\n",
       "  <th>Initial_days</th>                         <td>1.4094</td>   <td>0.0763</td>   <td>18.4837</td> <td>0.0000</td>  <td>1.2600</td>   <td>1.5589</td> \n",
       "</tr>\n",
       "<tr>\n",
       "  <th>Lat</th>                                  <td>0.0199</td>   <td>0.0173</td>   <td>1.1563</td>  <td>0.2475</td>  <td>-0.0139</td>  <td>0.0538</td> \n",
       "</tr>\n",
       "<tr>\n",
       "  <th>Initial_admin_Emergency_Admission</th>    <td>2.3833</td>   <td>0.2662</td>   <td>8.9516</td>  <td>0.0000</td>  <td>1.8615</td>   <td>2.9051</td> \n",
       "</tr>\n",
       "<tr>\n",
       "  <th>Initial_admin_Observation_Admission</th>  <td>0.7236</td>   <td>0.2688</td>   <td>2.6917</td>  <td>0.0071</td>  <td>0.1967</td>   <td>1.2505</td> \n",
       "</tr>\n",
       "<tr>\n",
       "  <th>Stroke_Yes</th>                           <td>1.5632</td>   <td>0.2606</td>   <td>5.9984</td>  <td>0.0000</td>  <td>1.0524</td>   <td>2.0740</td> \n",
       "</tr>\n",
       "<tr>\n",
       "  <th>Arthritis_Yes</th>                        <td>-1.2450</td>  <td>0.2162</td>   <td>-5.7594</td> <td>0.0000</td>  <td>-1.6687</td>  <td>-0.8213</td>\n",
       "</tr>\n",
       "<tr>\n",
       "  <th>Diabetes_Yes</th>                         <td>0.3277</td>   <td>0.2192</td>   <td>1.4948</td>  <td>0.1350</td>  <td>-0.1020</td>  <td>0.7573</td> \n",
       "</tr>\n",
       "<tr>\n",
       "  <th>Anxiety_Yes</th>                          <td>-0.9108</td>  <td>0.2135</td>   <td>-4.2653</td> <td>0.0000</td>  <td>-1.3293</td>  <td>-0.4923</td>\n",
       "</tr>\n",
       "<tr>\n",
       "  <th>Asthma_Yes</th>                           <td>-1.2800</td>  <td>0.2253</td>   <td>-5.6813</td> <td>0.0000</td>  <td>-1.7216</td>  <td>-0.8384</td>\n",
       "</tr>\n",
       "<tr>\n",
       "  <th>Services_CT_Scan</th>                     <td>1.5156</td>   <td>0.3401</td>   <td>4.4558</td>  <td>0.0000</td>  <td>0.8489</td>   <td>2.1822</td> \n",
       "</tr>\n",
       "<tr>\n",
       "  <th>Services_MRI</th>                         <td>2.6260</td>   <td>0.4750</td>   <td>5.5281</td>  <td>0.0000</td>  <td>1.6949</td>   <td>3.5570</td> \n",
       "</tr>\n",
       "<tr>\n",
       "  <th>Complication_risk_Low</th>                <td>-1.6417</td>  <td>0.2509</td>   <td>-6.5445</td> <td>0.0000</td>  <td>-2.1334</td>  <td>-1.1500</td>\n",
       "</tr>\n",
       "</table>"
      ],
      "text/plain": [
       "<class 'statsmodels.iolib.summary2.Summary'>\n",
       "\"\"\"\n",
       "                                    Results: Logit\n",
       "=======================================================================================\n",
       "Model:                      Logit                    Pseudo R-squared:         0.947   \n",
       "Dependent Variable:         ReAdmis_Yes              AIC:                      724.1220\n",
       "Date:                       2021-09-22 19:55         BIC:                      817.8564\n",
       "No. Observations:           10000                    Log-Likelihood:           -349.06 \n",
       "Df Model:                   12                       LL-Null:                  -6572.9 \n",
       "Df Residuals:               9987                     LLR p-value:              0.0000  \n",
       "Converged:                  1.0000                   Scale:                    1.0000  \n",
       "No. Iterations:             14.0000                                                    \n",
       "---------------------------------------------------------------------------------------\n",
       "                                     Coef.   Std.Err.    z     P>|z|   [0.025   0.975] \n",
       "---------------------------------------------------------------------------------------\n",
       "Intercept                           -77.8966   4.2903 -18.1565 0.0000 -86.3054 -69.4878\n",
       "Initial_days                          1.4094   0.0763  18.4837 0.0000   1.2600   1.5589\n",
       "Lat                                   0.0199   0.0173   1.1563 0.2475  -0.0139   0.0538\n",
       "Initial_admin_Emergency_Admission     2.3833   0.2662   8.9516 0.0000   1.8615   2.9051\n",
       "Initial_admin_Observation_Admission   0.7236   0.2688   2.6917 0.0071   0.1967   1.2505\n",
       "Stroke_Yes                            1.5632   0.2606   5.9984 0.0000   1.0524   2.0740\n",
       "Arthritis_Yes                        -1.2450   0.2162  -5.7594 0.0000  -1.6687  -0.8213\n",
       "Diabetes_Yes                          0.3277   0.2192   1.4948 0.1350  -0.1020   0.7573\n",
       "Anxiety_Yes                          -0.9108   0.2135  -4.2653 0.0000  -1.3293  -0.4923\n",
       "Asthma_Yes                           -1.2800   0.2253  -5.6813 0.0000  -1.7216  -0.8384\n",
       "Services_CT_Scan                      1.5156   0.3401   4.4558 0.0000   0.8489   2.1822\n",
       "Services_MRI                          2.6260   0.4750   5.5281 0.0000   1.6949   3.5570\n",
       "Complication_risk_Low                -1.6417   0.2509  -6.5445 0.0000  -2.1334  -1.1500\n",
       "=======================================================================================\n",
       "\n",
       "\"\"\""
      ]
     },
     "execution_count": 306,
     "metadata": {},
     "output_type": "execute_result"
    }
   ],
   "source": [
    "# Reduced model\n",
    "logit_mod = sm.Logit(y, X)\n",
    "results = logit_mod.fit()\n",
    "results.summary2()"
   ]
  },
  {
   "cell_type": "code",
   "execution_count": 307,
   "metadata": {},
   "outputs": [],
   "source": [
    "# Our reduced model looks a lot different.\n",
    "# Also, two of our p-values are now above 0.05. We should remove those."
   ]
  },
  {
   "cell_type": "code",
   "execution_count": 308,
   "metadata": {},
   "outputs": [],
   "source": [
    "# Let's further reduce the model.\n",
    "X.drop(['Lat', 'Diabetes_Yes'],axis = 1, inplace=True)"
   ]
  },
  {
   "cell_type": "code",
   "execution_count": 309,
   "metadata": {},
   "outputs": [
    {
     "name": "stdout",
     "output_type": "stream",
     "text": [
      "Optimization terminated successfully.\n",
      "         Current function value: 0.035084\n",
      "         Iterations 14\n"
     ]
    },
    {
     "data": {
      "text/html": [
       "<table class=\"simpletable\">\n",
       "<tr>\n",
       "        <td>Model:</td>              <td>Logit</td>      <td>Pseudo R-squared:</td>   <td>0.947</td> \n",
       "</tr>\n",
       "<tr>\n",
       "  <td>Dependent Variable:</td>    <td>ReAdmis_Yes</td>         <td>AIC:</td>        <td>723.6874</td>\n",
       "</tr>\n",
       "<tr>\n",
       "         <td>Date:</td>        <td>2021-09-22 19:55</td>       <td>BIC:</td>        <td>803.0012</td>\n",
       "</tr>\n",
       "<tr>\n",
       "   <td>No. Observations:</td>        <td>10000</td>       <td>Log-Likelihood:</td>   <td>-350.84</td>\n",
       "</tr>\n",
       "<tr>\n",
       "       <td>Df Model:</td>             <td>10</td>            <td>LL-Null:</td>       <td>-6572.9</td>\n",
       "</tr>\n",
       "<tr>\n",
       "     <td>Df Residuals:</td>          <td>9989</td>         <td>LLR p-value:</td>     <td>0.0000</td> \n",
       "</tr>\n",
       "<tr>\n",
       "      <td>Converged:</td>           <td>1.0000</td>           <td>Scale:</td>        <td>1.0000</td> \n",
       "</tr>\n",
       "<tr>\n",
       "    <td>No. Iterations:</td>        <td>14.0000</td>             <td></td>              <td></td>    \n",
       "</tr>\n",
       "</table>\n",
       "<table class=\"simpletable\">\n",
       "<tr>\n",
       "                   <td></td>                     <th>Coef.</th>  <th>Std.Err.</th>     <th>z</th>     <th>P>|z|</th>  <th>[0.025</th>   <th>0.975]</th> \n",
       "</tr>\n",
       "<tr>\n",
       "  <th>Intercept</th>                           <td>-76.5357</td>  <td>4.1251</td>  <td>-18.5536</td> <td>0.0000</td> <td>-84.6207</td> <td>-68.4506</td>\n",
       "</tr>\n",
       "<tr>\n",
       "  <th>Initial_days</th>                         <td>1.4005</td>   <td>0.0754</td>   <td>18.5696</td> <td>0.0000</td>  <td>1.2527</td>   <td>1.5483</td> \n",
       "</tr>\n",
       "<tr>\n",
       "  <th>Initial_admin_Emergency_Admission</th>    <td>2.3585</td>   <td>0.2640</td>   <td>8.9342</td>  <td>0.0000</td>  <td>1.8411</td>   <td>2.8759</td> \n",
       "</tr>\n",
       "<tr>\n",
       "  <th>Initial_admin_Observation_Admission</th>  <td>0.6995</td>   <td>0.2678</td>   <td>2.6117</td>  <td>0.0090</td>  <td>0.1745</td>   <td>1.2244</td> \n",
       "</tr>\n",
       "<tr>\n",
       "  <th>Stroke_Yes</th>                           <td>1.5214</td>   <td>0.2573</td>   <td>5.9129</td>  <td>0.0000</td>  <td>1.0171</td>   <td>2.0257</td> \n",
       "</tr>\n",
       "<tr>\n",
       "  <th>Arthritis_Yes</th>                        <td>-1.2106</td>  <td>0.2137</td>   <td>-5.6652</td> <td>0.0000</td>  <td>-1.6294</td>  <td>-0.7918</td>\n",
       "</tr>\n",
       "<tr>\n",
       "  <th>Anxiety_Yes</th>                          <td>-0.9343</td>  <td>0.2132</td>   <td>-4.3822</td> <td>0.0000</td>  <td>-1.3521</td>  <td>-0.5164</td>\n",
       "</tr>\n",
       "<tr>\n",
       "  <th>Asthma_Yes</th>                           <td>-1.2598</td>  <td>0.2239</td>   <td>-5.6274</td> <td>0.0000</td>  <td>-1.6985</td>  <td>-0.8210</td>\n",
       "</tr>\n",
       "<tr>\n",
       "  <th>Services_CT_Scan</th>                     <td>1.5609</td>   <td>0.3381</td>   <td>4.6166</td>  <td>0.0000</td>  <td>0.8982</td>   <td>2.2236</td> \n",
       "</tr>\n",
       "<tr>\n",
       "  <th>Services_MRI</th>                         <td>2.6098</td>   <td>0.4778</td>   <td>5.4624</td>  <td>0.0000</td>  <td>1.6734</td>   <td>3.5462</td> \n",
       "</tr>\n",
       "<tr>\n",
       "  <th>Complication_risk_Low</th>                <td>-1.6137</td>  <td>0.2487</td>   <td>-6.4877</td> <td>0.0000</td>  <td>-2.1012</td>  <td>-1.1262</td>\n",
       "</tr>\n",
       "</table>"
      ],
      "text/plain": [
       "<class 'statsmodels.iolib.summary2.Summary'>\n",
       "\"\"\"\n",
       "                                    Results: Logit\n",
       "=======================================================================================\n",
       "Model:                      Logit                    Pseudo R-squared:         0.947   \n",
       "Dependent Variable:         ReAdmis_Yes              AIC:                      723.6874\n",
       "Date:                       2021-09-22 19:55         BIC:                      803.0012\n",
       "No. Observations:           10000                    Log-Likelihood:           -350.84 \n",
       "Df Model:                   10                       LL-Null:                  -6572.9 \n",
       "Df Residuals:               9989                     LLR p-value:              0.0000  \n",
       "Converged:                  1.0000                   Scale:                    1.0000  \n",
       "No. Iterations:             14.0000                                                    \n",
       "---------------------------------------------------------------------------------------\n",
       "                                     Coef.   Std.Err.    z     P>|z|   [0.025   0.975] \n",
       "---------------------------------------------------------------------------------------\n",
       "Intercept                           -76.5357   4.1251 -18.5536 0.0000 -84.6207 -68.4506\n",
       "Initial_days                          1.4005   0.0754  18.5696 0.0000   1.2527   1.5483\n",
       "Initial_admin_Emergency_Admission     2.3585   0.2640   8.9342 0.0000   1.8411   2.8759\n",
       "Initial_admin_Observation_Admission   0.6995   0.2678   2.6117 0.0090   0.1745   1.2244\n",
       "Stroke_Yes                            1.5214   0.2573   5.9129 0.0000   1.0171   2.0257\n",
       "Arthritis_Yes                        -1.2106   0.2137  -5.6652 0.0000  -1.6294  -0.7918\n",
       "Anxiety_Yes                          -0.9343   0.2132  -4.3822 0.0000  -1.3521  -0.5164\n",
       "Asthma_Yes                           -1.2598   0.2239  -5.6274 0.0000  -1.6985  -0.8210\n",
       "Services_CT_Scan                      1.5609   0.3381   4.6166 0.0000   0.8982   2.2236\n",
       "Services_MRI                          2.6098   0.4778   5.4624 0.0000   1.6734   3.5462\n",
       "Complication_risk_Low                -1.6137   0.2487  -6.4877 0.0000  -2.1012  -1.1262\n",
       "=======================================================================================\n",
       "\n",
       "\"\"\""
      ]
     },
     "execution_count": 309,
     "metadata": {},
     "output_type": "execute_result"
    }
   ],
   "source": [
    "# Further reduced model\n",
    "logit_mod = sm.Logit(y, X)\n",
    "results = logit_mod.fit()\n",
    "results.summary2()"
   ]
  },
  {
   "cell_type": "code",
   "execution_count": 310,
   "metadata": {},
   "outputs": [
    {
     "data": {
      "text/html": [
       "<div>\n",
       "<style scoped>\n",
       "    .dataframe tbody tr th:only-of-type {\n",
       "        vertical-align: middle;\n",
       "    }\n",
       "\n",
       "    .dataframe tbody tr th {\n",
       "        vertical-align: top;\n",
       "    }\n",
       "\n",
       "    .dataframe thead th {\n",
       "        text-align: right;\n",
       "    }\n",
       "</style>\n",
       "<table border=\"1\" class=\"dataframe\">\n",
       "  <thead>\n",
       "    <tr style=\"text-align: right;\">\n",
       "      <th></th>\n",
       "      <th>VIF Factor</th>\n",
       "      <th>variables</th>\n",
       "    </tr>\n",
       "  </thead>\n",
       "  <tbody>\n",
       "    <tr>\n",
       "      <th>0</th>\n",
       "      <td>7.842838</td>\n",
       "      <td>Intercept</td>\n",
       "    </tr>\n",
       "    <tr>\n",
       "      <th>1</th>\n",
       "      <td>1.001341</td>\n",
       "      <td>Initial_days</td>\n",
       "    </tr>\n",
       "    <tr>\n",
       "      <th>2</th>\n",
       "      <td>1.492909</td>\n",
       "      <td>Initial_admin_Emergency_Admission</td>\n",
       "    </tr>\n",
       "    <tr>\n",
       "      <th>3</th>\n",
       "      <td>1.492923</td>\n",
       "      <td>Initial_admin_Observation_Admission</td>\n",
       "    </tr>\n",
       "    <tr>\n",
       "      <th>4</th>\n",
       "      <td>1.000820</td>\n",
       "      <td>Stroke_Yes</td>\n",
       "    </tr>\n",
       "    <tr>\n",
       "      <th>5</th>\n",
       "      <td>1.000896</td>\n",
       "      <td>Arthritis_Yes</td>\n",
       "    </tr>\n",
       "    <tr>\n",
       "      <th>6</th>\n",
       "      <td>1.000787</td>\n",
       "      <td>Anxiety_Yes</td>\n",
       "    </tr>\n",
       "    <tr>\n",
       "      <th>7</th>\n",
       "      <td>1.000626</td>\n",
       "      <td>Asthma_Yes</td>\n",
       "    </tr>\n",
       "    <tr>\n",
       "      <th>8</th>\n",
       "      <td>1.006700</td>\n",
       "      <td>Services_CT_Scan</td>\n",
       "    </tr>\n",
       "    <tr>\n",
       "      <th>9</th>\n",
       "      <td>1.005860</td>\n",
       "      <td>Services_MRI</td>\n",
       "    </tr>\n",
       "    <tr>\n",
       "      <th>10</th>\n",
       "      <td>1.000748</td>\n",
       "      <td>Complication_risk_Low</td>\n",
       "    </tr>\n",
       "  </tbody>\n",
       "</table>\n",
       "</div>"
      ],
      "text/plain": [
       "    VIF Factor                            variables\n",
       "0     7.842838                            Intercept\n",
       "1     1.001341                         Initial_days\n",
       "2     1.492909    Initial_admin_Emergency_Admission\n",
       "3     1.492923  Initial_admin_Observation_Admission\n",
       "4     1.000820                           Stroke_Yes\n",
       "5     1.000896                        Arthritis_Yes\n",
       "6     1.000787                          Anxiety_Yes\n",
       "7     1.000626                           Asthma_Yes\n",
       "8     1.006700                     Services_CT_Scan\n",
       "9     1.005860                         Services_MRI\n",
       "10    1.000748                Complication_risk_Low"
      ]
     },
     "execution_count": 310,
     "metadata": {},
     "output_type": "execute_result"
    }
   ],
   "source": [
    "# Check VIF again\n",
    "y, X = dmatrices('ReAdmis_Yes ~ Initial_days + Initial_admin_Emergency_Admission + Initial_admin_Observation_Admission + Stroke_Yes + Arthritis_Yes + Anxiety_Yes + Asthma_Yes + Services_CT_Scan + Services_MRI + Complication_risk_Low', df_new, return_type='dataframe')\n",
    "\n",
    "vif = pd.DataFrame()\n",
    "vif[\"VIF Factor\"] = [variance_inflation_factor(X.values, i) for i in range(X.shape[1])]\n",
    "vif[\"variables\"] = X.columns\n",
    "vif"
   ]
  },
  {
   "cell_type": "code",
   "execution_count": 311,
   "metadata": {},
   "outputs": [
    {
     "data": {
      "text/plain": [
       "Intercept                              5.767475e-34\n",
       "Initial_days                           4.057139e+00\n",
       "Initial_admin_Emergency_Admission      1.057547e+01\n",
       "Initial_admin_Observation_Admission    2.012718e+00\n",
       "Stroke_Yes                             4.578620e+00\n",
       "Arthritis_Yes                          2.980263e-01\n",
       "Anxiety_Yes                            3.928752e-01\n",
       "Asthma_Yes                             2.837234e-01\n",
       "Services_CT_Scan                       4.763169e+00\n",
       "Services_MRI                           1.359645e+01\n",
       "Complication_risk_Low                  1.991446e-01\n",
       "dtype: float64"
      ]
     },
     "execution_count": 311,
     "metadata": {},
     "output_type": "execute_result"
    }
   ],
   "source": [
    "# Get exponential of coefficients\n",
    "np.exp(results.params)"
   ]
  },
  {
   "cell_type": "code",
   "execution_count": 312,
   "metadata": {},
   "outputs": [],
   "source": [
    "# Split and train model: source: https://towardsdatascience.com/train-test-split-and-cross-validation-in-python-80b61beca4b6\n",
    "X_train, X_test, y_train, y_test = train_test_split(X, y, test_size=.20, random_state=0)"
   ]
  },
  {
   "cell_type": "code",
   "execution_count": 313,
   "metadata": {},
   "outputs": [
    {
     "name": "stdout",
     "output_type": "stream",
     "text": [
      "[[1249   13]\n",
      " [  12  726]]\n"
     ]
    }
   ],
   "source": [
    "# Create confusion matrix\n",
    "log_mod = LogisticRegression()\n",
    "log_mod.fit(X_train, y_train)\n",
    "preds = log_mod.predict(X_test)\n",
    "cf_matrix = confusion_matrix(y_test, preds)\n",
    "print(conf_matrix)"
   ]
  },
  {
   "cell_type": "code",
   "execution_count": 314,
   "metadata": {},
   "outputs": [
    {
     "data": {
      "image/png": "[encoded data removed]",
      "text/plain": [
       "<Figure size 432x288 with 2 Axes>"
      ]
     },
     "metadata": {
      "needs_background": "light"
     },
     "output_type": "display_data"
    }
   ],
   "source": [
    "# Confusion matrix in a heat map\n",
    "graph = sb.heatmap(conf_matrix, annot=True)\n",
    "graph.set(xlabel=\"Prediction\", ylabel = \"Actual\");"
   ]
  },
  {
   "cell_type": "code",
   "execution_count": 315,
   "metadata": {},
   "outputs": [
    {
     "data": {
      "text/plain": [
       "0.9824086603518268"
      ]
     },
     "execution_count": 315,
     "metadata": {},
     "output_type": "execute_result"
    }
   ],
   "source": [
    "# Precision score (true positives / true positives + false positives)\n",
    "precision_score(y_test, predictions)"
   ]
  },
  {
   "cell_type": "code",
   "execution_count": 316,
   "metadata": {},
   "outputs": [
    {
     "data": {
      "text/plain": [
       "0.983739837398374"
      ]
     },
     "execution_count": 316,
     "metadata": {},
     "output_type": "execute_result"
    }
   ],
   "source": [
    "# Recall score (true positives / true positives + false negatives)\n",
    "recall_score(y_test, predictions)"
   ]
  },
  {
   "cell_type": "code",
   "execution_count": 317,
   "metadata": {},
   "outputs": [
    {
     "data": {
      "text/plain": [
       "0.9875"
      ]
     },
     "execution_count": 317,
     "metadata": {},
     "output_type": "execute_result"
    }
   ],
   "source": [
    "# Accuracy score (correct/all)\n",
    "accuracy_score(y_test, predictions)"
   ]
  },
  {
   "cell_type": "code",
   "execution_count": 318,
   "metadata": {},
   "outputs": [
    {
     "data": {
      "text/html": [
       "<table class=\"simpletable\">\n",
       "<caption>Logit Marginal Effects</caption>\n",
       "<tr>\n",
       "  <th>Dep. Variable:</th> <td>ReAdmis_Yes</td>\n",
       "</tr>\n",
       "<tr>\n",
       "  <th>Method:</th>           <td>dydx</td>    \n",
       "</tr>\n",
       "<tr>\n",
       "  <th>At:</th>              <td>overall</td>  \n",
       "</tr>\n",
       "</table>\n",
       "<table class=\"simpletable\">\n",
       "<tr>\n",
       "                   <th></th>                      <th>dy/dx</th>    <th>std err</th>      <th>z</th>      <th>P>|z|</th>  <th>[0.025</th>    <th>0.975]</th>  \n",
       "</tr>\n",
       "<tr>\n",
       "  <th>Initial_days</th>                        <td>    0.0149</td> <td> 8.39e-05</td> <td>  178.076</td> <td> 0.000</td> <td>    0.015</td> <td>    0.015</td>\n",
       "</tr>\n",
       "<tr>\n",
       "  <th>Initial_admin_Emergency_Admission</th>   <td>    0.0252</td> <td>    0.002</td> <td>   10.199</td> <td> 0.000</td> <td>    0.020</td> <td>    0.030</td>\n",
       "</tr>\n",
       "<tr>\n",
       "  <th>Initial_admin_Observation_Admission</th> <td>    0.0075</td> <td>    0.003</td> <td>    2.637</td> <td> 0.008</td> <td>    0.002</td> <td>    0.013</td>\n",
       "</tr>\n",
       "<tr>\n",
       "  <th>Stroke_Yes</th>                          <td>    0.0162</td> <td>    0.003</td> <td>    6.228</td> <td> 0.000</td> <td>    0.011</td> <td>    0.021</td>\n",
       "</tr>\n",
       "<tr>\n",
       "  <th>Arthritis_Yes</th>                       <td>   -0.0129</td> <td>    0.002</td> <td>   -5.936</td> <td> 0.000</td> <td>   -0.017</td> <td>   -0.009</td>\n",
       "</tr>\n",
       "<tr>\n",
       "  <th>Anxiety_Yes</th>                         <td>   -0.0100</td> <td>    0.002</td> <td>   -4.504</td> <td> 0.000</td> <td>   -0.014</td> <td>   -0.006</td>\n",
       "</tr>\n",
       "<tr>\n",
       "  <th>Asthma_Yes</th>                          <td>   -0.0134</td> <td>    0.002</td> <td>   -5.903</td> <td> 0.000</td> <td>   -0.018</td> <td>   -0.009</td>\n",
       "</tr>\n",
       "<tr>\n",
       "  <th>Services_CT_Scan</th>                    <td>    0.0167</td> <td>    0.003</td> <td>    4.786</td> <td> 0.000</td> <td>    0.010</td> <td>    0.023</td>\n",
       "</tr>\n",
       "<tr>\n",
       "  <th>Services_MRI</th>                        <td>    0.0278</td> <td>    0.005</td> <td>    5.716</td> <td> 0.000</td> <td>    0.018</td> <td>    0.037</td>\n",
       "</tr>\n",
       "<tr>\n",
       "  <th>Complication_risk_Low</th>               <td>   -0.0172</td> <td>    0.002</td> <td>   -6.890</td> <td> 0.000</td> <td>   -0.022</td> <td>   -0.012</td>\n",
       "</tr>\n",
       "</table>"
      ],
      "text/plain": [
       "<class 'statsmodels.iolib.summary.Summary'>\n",
       "\"\"\"\n",
       "        Logit Marginal Effects       \n",
       "=====================================\n",
       "Dep. Variable:            ReAdmis_Yes\n",
       "Method:                          dydx\n",
       "At:                           overall\n",
       "=======================================================================================================\n",
       "                                         dy/dx    std err          z      P>|z|      [0.025      0.975]\n",
       "-------------------------------------------------------------------------------------------------------\n",
       "Initial_days                            0.0149   8.39e-05    178.076      0.000       0.015       0.015\n",
       "Initial_admin_Emergency_Admission       0.0252      0.002     10.199      0.000       0.020       0.030\n",
       "Initial_admin_Observation_Admission     0.0075      0.003      2.637      0.008       0.002       0.013\n",
       "Stroke_Yes                              0.0162      0.003      6.228      0.000       0.011       0.021\n",
       "Arthritis_Yes                          -0.0129      0.002     -5.936      0.000      -0.017      -0.009\n",
       "Anxiety_Yes                            -0.0100      0.002     -4.504      0.000      -0.014      -0.006\n",
       "Asthma_Yes                             -0.0134      0.002     -5.903      0.000      -0.018      -0.009\n",
       "Services_CT_Scan                        0.0167      0.003      4.786      0.000       0.010       0.023\n",
       "Services_MRI                            0.0278      0.005      5.716      0.000       0.018       0.037\n",
       "Complication_risk_Low                  -0.0172      0.002     -6.890      0.000      -0.022      -0.012\n",
       "=======================================================================================================\n",
       "\"\"\""
      ]
     },
     "execution_count": 318,
     "metadata": {},
     "output_type": "execute_result"
    }
   ],
   "source": [
    "# Logit marginal effects\n",
    "# Source: https://onezero.blog/fitting-mlr-and-binary-logistic-regression-using-python/\n",
    "AME = model.get_margeff(at='overall', method='dydx')\n",
    "AME.summary()"
   ]
  }
 ],
 "metadata": {
  "kernelspec": {
   "display_name": "Python 3",
   "language": "python",
   "name": "python3"
  },
  "language_info": {
   "codemirror_mode": {
    "name": "ipython",
    "version": 3
   },
   "file_extension": ".py",
   "mimetype": "text/x-python",
   "name": "python",
   "nbconvert_exporter": "python",
   "pygments_lexer": "ipython3",
   "version": "3.8.3"
  }
 },
 "nbformat": 4,
 "nbformat_minor": 4
}
